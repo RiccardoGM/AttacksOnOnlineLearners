{
 "cells": [
  {
   "cell_type": "markdown",
   "id": "4bd7ac25-9549-40fb-95e7-704828689c02",
   "metadata": {},
   "source": [
    "# Import"
   ]
  },
  {
   "cell_type": "code",
   "execution_count": 1,
   "id": "08eb9240-adde-4fb5-8cd4-dd5c1db39b75",
   "metadata": {},
   "outputs": [],
   "source": [
    "import numpy as np\n",
    "import scipy as sp\n",
    "import statsmodels.stats.api as sms\n",
    "\n",
    "import matplotlib.pyplot as plt\n",
    "import matplotlib as mpl\n",
    "from matplotlib import ticker\n",
    "\n",
    "import sys\n",
    "import os\n",
    "local_path = '/Users/riccardo/Documents/GitHub/' #'path_to_progect_folder/'\n",
    "sys.path.append(local_path+'OptimalControlAttacks/SyntheticDataExperiments/')\n",
    "from Modules import GreedyAttacks as GA\n",
    "from Modules import ConstantAttacks as CoA\n",
    "from Modules import ClairvoyantAttacks as ClA\n",
    "from Modules import AuxiliaryFunctions as AF\n",
    "from Parameters import ParametersAttacksComparison_LinearRegression as Par"
   ]
  },
  {
   "cell_type": "code",
   "execution_count": 2,
   "id": "f36d7b02-83aa-46d4-bb64-64ef18a72d1d",
   "metadata": {
    "tags": []
   },
   "outputs": [],
   "source": [
    "# Colors"
   ]
  },
  {
   "cell_type": "code",
   "execution_count": 3,
   "id": "f559bc37-a2b8-4bcc-9f8b-bee3a6a7ca49",
   "metadata": {},
   "outputs": [],
   "source": [
    "green = '#7FB285'\n",
    "coral = '#FF8360'\n",
    "light_blue = '#3C8DAD'\n",
    "lavander = '#D5C6E0'\n",
    "light_red = '#FF616D'\n",
    "orange = '#F5A962'"
   ]
  },
  {
   "cell_type": "markdown",
   "id": "f1be3824-c44b-402c-90b7-b3f73f135c55",
   "metadata": {},
   "source": [
    "# Parameters"
   ]
  },
  {
   "cell_type": "code",
   "execution_count": 4,
   "id": "688d4b09-8ab9-4aae-9628-6b4cabedbdb1",
   "metadata": {},
   "outputs": [],
   "source": [
    "# Activation\n",
    "activation = Par.activation\n",
    "\n",
    "# Input data parameters\n",
    "dim_input = Par.dim_input\n",
    "batch_size = Par.batch_size\n",
    "mu_x = Par.mu_x\n",
    "sigma_x = Par.sigma_x\n",
    "n_runs_experiments = Par.n_runs_experiments\n",
    "\n",
    "# Dynamics parameters\n",
    "learning_rate = Par.learning_rate\n",
    "gamma = Par.gamma\n",
    "beta = Par.beta\n",
    "\n",
    "# N. samples\n",
    "n_timesteps = Par.n_timesteps\n",
    "n_timesteps_transient_th = Par.n_timesteps_transient_th\n",
    "n_timesteps_past = Par.n_timesteps_past\n",
    "n_samples_average = Par.n_samples_average\n",
    "n_samples_buffer = Par.n_samples_buffer\n",
    "n_samples_test = Par.n_samples_test\n",
    "\n",
    "# Control parameters\n",
    "a_min = Par.a_min\n",
    "a_max = Par.a_max\n",
    "n_a_gridpoints = Par.n_a_gridpoints\n",
    "n_runs_calibration = Par.n_runs_calibration\n",
    "control_cost_weight = Par.control_cost_weight\n",
    "greedy_weight_future = Par.greedy_weight_future\n",
    "opt_pref = Par.opt_pref\n",
    "fut_pref = Par.fut_pref\n",
    "\n",
    "# DeepRL Agent\n",
    "agent_model_name = Par.agent_model_name\n",
    "n_actions = Par.n_actions\n",
    "use_action_noise = Par.use_action_noise\n",
    "action_noise_mean = Par.action_noise_mean\n",
    "action_noise_std = Par.action_noise_std\n",
    "use_small_achitecture = Par.use_small_achitecture\n",
    "warmup_reward_greedy = Par.warmup_reward_greedy\n",
    "randomise_initial_condition = Par.randomise_initial_condition\n",
    "shuffle_array = Par.shuffle_array\n",
    "learning_rate_agent = Par.learning_rate_agent\n",
    "activation_fn = Par.activation_fn\n",
    "n_episodes = Par.n_episodes\n",
    "save_freq = Par.save_freq"
   ]
  },
  {
   "cell_type": "markdown",
   "id": "c53ab8a9-a3c8-419d-a00d-a7f8fb1ef760",
   "metadata": {},
   "source": [
    "# Arrays"
   ]
  },
  {
   "cell_type": "code",
   "execution_count": 5,
   "id": "0a1398fe-d34d-426f-af51-56d796648725",
   "metadata": {},
   "outputs": [],
   "source": [
    "# Teacher\n",
    "w_teach = np.random.normal(0, 1, dim_input)\n",
    "w_teach = w_teach/(np.sum(w_teach**2)/dim_input)**0.5\n",
    "# Target\n",
    "w_target = -w_teach\n",
    "# Student (initial condition)\n",
    "w_stud_0 = w_teach\n",
    "            \n",
    "# Arrays (assuming batch_size as specified above)\n",
    "x_incoming_arr = np.random.normal(mu_x, sigma_x, (n_runs_experiments, batch_size*n_timesteps, dim_input))\n",
    "x_past = np.random.normal(mu_x, sigma_x, (batch_size*n_timesteps_past, dim_input))\n",
    "x_buffer = np.random.normal(mu_x, sigma_x, (batch_size*n_samples_buffer, dim_input))\n",
    "x_test = np.random.normal(mu_x, sigma_x, (batch_size*n_samples_test, dim_input))"
   ]
  },
  {
   "cell_type": "markdown",
   "id": "b1748d27-a591-4b58-9064-023f1014dd3b",
   "metadata": {},
   "source": [
    "# Single run"
   ]
  },
  {
   "cell_type": "code",
   "execution_count": 6,
   "id": "7da1fd30-cf98-47d2-99af-28ab97d36f09",
   "metadata": {},
   "outputs": [],
   "source": [
    "run_index = 0\n",
    "x_incoming = x_incoming_arr[run_index]"
   ]
  },
  {
   "cell_type": "markdown",
   "id": "a73727f2-f957-49f9-aa65-de2ed73285d1",
   "metadata": {},
   "source": [
    "## Constant"
   ]
  },
  {
   "cell_type": "code",
   "execution_count": 7,
   "id": "ea672628-afee-4d5e-bb86-1e96e8eae0d1",
   "metadata": {},
   "outputs": [
    {
     "name": "stdout",
     "output_type": "stream",
     "text": [
      "3.625087633590916\n",
      "Optimising a_const between a_min (-2.00) and a_max (3.00)\n",
      "  opt. run:1/10\n",
      "  opt. run:2/10\n",
      "  opt. run:3/10\n",
      "  opt. run:4/10\n",
      "  opt. run:5/10\n",
      "  opt. run:6/10\n",
      "  opt. run:7/10\n",
      "  opt. run:8/10\n",
      "  opt. run:9/10\n",
      "  opt. run:10/10\n",
      "Constant action found: 0.50\n",
      "Training...\n",
      "1/5000\n",
      "500/5000\n",
      "1000/5000\n",
      "1500/5000\n",
      "2000/5000\n",
      "2500/5000\n",
      "3000/5000\n",
      "3500/5000\n",
      "4000/5000\n",
      "4500/5000\n",
      "5000/5000\n"
     ]
    }
   ],
   "source": [
    "opt_a_const = True\n",
    "a_const = 0.5\n",
    "results_constant = CoA.exp_const_perceptron(x_incoming=x_incoming, \n",
    "                                            x_past=x_past,\n",
    "                                            x_buffer = x_buffer,\n",
    "                                            x_test=x_test,\n",
    "                                            dim_input=dim_input, \n",
    "                                            w_teach=w_teach,\n",
    "                                            w_target=w_target, \n",
    "                                            w_stud_0=w_stud_0,\n",
    "                                            eta=learning_rate, \n",
    "                                            beta=beta, \n",
    "                                            control_cost_weight=control_cost_weight,\n",
    "                                            a_min=a_min,\n",
    "                                            a_max=a_max,\n",
    "                                            batch_size=batch_size,\n",
    "                                            activation=activation, \n",
    "                                            transient_th=n_timesteps_transient_th,\n",
    "                                            opt_a_const=opt_a_const, \n",
    "                                            a_const=a_const, \n",
    "                                            n_gridpoints=n_a_gridpoints, \n",
    "                                            n_av=n_runs_calibration)"
   ]
  },
  {
   "cell_type": "code",
   "execution_count": 8,
   "id": "2a7669cf-1ebe-4cdc-9bf9-17d5e1220513",
   "metadata": {},
   "outputs": [],
   "source": [
    "w_dynamics_const = results_constant['w_dynamics']\n",
    "a_dynamics_const = results_constant['a_dynamics']\n",
    "nef_cost_dynamics_const = results_constant['nef_cost_dynamics']\n",
    "per_cost_dynamics_const = results_constant['per_cost_dynamics']\n",
    "cum_cost_dynamics_const = results_constant['cum_cost_dynamics']\n",
    "\n",
    "# Overlaps\n",
    "overlap_const_star = np.dot(w_target, w_dynamics_const.T)/dim_input\n",
    "overlap_const_teach = np.dot(w_teach, w_dynamics_const.T)/dim_input"
   ]
  },
  {
   "cell_type": "markdown",
   "id": "09540323-37e2-41e6-83d6-b102ffaee0f7",
   "metadata": {},
   "source": [
    "## Greedy"
   ]
  },
  {
   "cell_type": "code",
   "execution_count": 9,
   "id": "69cc6a30-9808-46c9-9808-78af458ec49b",
   "metadata": {},
   "outputs": [
    {
     "name": "stdout",
     "output_type": "stream",
     "text": [
      "1\n",
      "True\n",
      "3.625087633590916\n",
      "Training...\n",
      "1/5000\n",
      "500/5000\n",
      "1000/5000\n",
      "1500/5000\n",
      "2000/5000\n",
      "2500/5000\n",
      "3000/5000\n",
      "3500/5000\n",
      "4000/5000\n",
      "4500/5000\n",
      "5000/5000\n"
     ]
    }
   ],
   "source": [
    "print(fut_pref)\n",
    "print(opt_pref)\n",
    "fut_pref_interval = 0.1\n",
    "fut_pref_min = 0.5\n",
    "fut_pref_max = 1.5 + fut_pref_interval\n",
    "\n",
    "opt_pref_local = False\n",
    "fut_pref_local = 1\n",
    "\n",
    "results_greedy = GA.exp_greedy_perceptron(x_incoming=x_incoming, \n",
    "                                           x_past=x_past, \n",
    "                                           x_buffer=x_buffer, \n",
    "                                           x_test=x_test,\n",
    "                                           dim_input=dim_input,\n",
    "                                           w_teach=w_teach, \n",
    "                                           w_target=w_target,\n",
    "                                           w_stud_0=w_stud_0,\n",
    "                                           eta=learning_rate,\n",
    "                                           beta=beta, \n",
    "                                           control_cost_weight=control_cost_weight,\n",
    "                                           a_min=a_min, \n",
    "                                           a_max=a_max,\n",
    "                                           batch_size=batch_size,\n",
    "                                           weight_future=greedy_weight_future,\n",
    "                                           buffer_size=n_samples_average,\n",
    "                                           activation=activation,\n",
    "                                           transient_th=n_timesteps_transient_th,\n",
    "                                           fut_pref=fut_pref_local,\n",
    "                                           opt_pref=opt_pref_local, \n",
    "                                           fut_pref_interval=fut_pref_interval,\n",
    "                                           fut_pref_min=fut_pref_min, \n",
    "                                           fut_pref_max=fut_pref_max,\n",
    "                                           n_av=n_runs_calibration, \n",
    "                                           n_gridpoints=n_a_gridpoints)"
   ]
  },
  {
   "cell_type": "code",
   "execution_count": 10,
   "id": "412a0086-329a-4e85-91ea-2fdcc0cd6f44",
   "metadata": {},
   "outputs": [],
   "source": [
    "w_dynamics_greedy = results_greedy['w_dynamics']\n",
    "a_dynamics_greedy = results_greedy['a_dynamics']\n",
    "nef_cost_dynamics_greedy = results_greedy['nef_cost_dynamics']\n",
    "per_cost_dynamics_greedy = results_greedy['per_cost_dynamics']\n",
    "cum_cost_dynamics_greedy = results_greedy['cum_cost_dynamics']\n",
    "d_dynamics_greedy = results_greedy['d_dynamics']\n",
    "\n",
    "# Overlaps\n",
    "overlap_greedy_star = np.dot(w_target, w_dynamics_greedy.T)/dim_input\n",
    "overlap_greedy_teach = np.dot(w_teach, w_dynamics_greedy.T)/dim_input"
   ]
  },
  {
   "cell_type": "markdown",
   "id": "2cb168a3-9cda-432c-910f-3b41a88df64e",
   "metadata": {
    "tags": []
   },
   "source": [
    "## Clairvoyant"
   ]
  },
  {
   "cell_type": "code",
   "execution_count": 11,
   "id": "3a411d1b-f4b7-4c29-b316-fad6905cd8a0",
   "metadata": {},
   "outputs": [
    {
     "name": "stdout",
     "output_type": "stream",
     "text": [
      "\n",
      "******************************************************************************\n",
      "This program contains Ipopt, a library for large-scale nonlinear optimization.\n",
      " Ipopt is released as open source code under the Eclipse Public License (EPL).\n",
      "         For more information visit https://github.com/coin-or/Ipopt\n",
      "******************************************************************************\n",
      "\n",
      "This is Ipopt version 3.14.11, running with linear solver MUMPS 5.2.1.\n",
      "\n",
      "Number of nonzeros in equality constraint Jacobian...:  1049800\n",
      "Number of nonzeros in inequality constraint Jacobian.:        0\n",
      "Number of nonzeros in Lagrangian Hessian.............:        0\n",
      "\n",
      "Total number of variables............................:    55000\n",
      "                     variables with only lower bounds:        0\n",
      "                variables with lower and upper bounds:     5000\n",
      "                     variables with only upper bounds:        0\n",
      "Total number of equality constraints.................:    50000\n",
      "Total number of inequality constraints...............:        0\n",
      "        inequality constraints with only lower bounds:        0\n",
      "   inequality constraints with lower and upper bounds:        0\n",
      "        inequality constraints with only upper bounds:        0\n",
      "\n",
      "iter    objective    inf_pr   inf_du lg(mu)  ||d||  lg(rg) alpha_du alpha_pr  ls\n",
      "   0  2.1094727e+03 3.11e+01 1.80e+00   0.0 0.00e+00    -  0.00e+00 0.00e+00   0\n",
      "   1  7.6729420e+02 1.06e-14 8.00e-01   0.3 4.47e+00    -  5.27e-02 1.00e+00f  1\n",
      "   2  4.9716597e+02 2.22e-15 2.77e-01  -5.6 1.65e+00    -  5.48e-01 1.00e+00f  1\n",
      "   3  4.2950576e+02 2.22e-15 2.93e-01  -0.8 7.95e-01    -  9.71e-01 1.00e+00f  1\n",
      "   4  4.2818123e+02 2.66e-15 5.76e-01  -6.7 2.45e+00    -  5.01e-01 5.00e-01f  2\n",
      "   5  4.1555823e+02 2.66e-15 2.21e-01  -1.4 1.11e+00    -  9.93e-01 1.00e+00f  1\n",
      "   6  4.1304374e+02 2.66e-15 4.16e-02  -7.4 3.41e-01    -  8.79e-01 1.00e+00f  1\n",
      "   7  4.1259934e+02 2.66e-15 1.10e-02  -4.3 6.46e-02    -  9.82e-01 1.00e+00f  1\n",
      "   8  4.1177840e+02 2.66e-15 2.68e-01  -4.7 7.64e-01    -  1.00e+00 5.00e-01f  2\n",
      "   9  4.1161947e+02 1.82e-15 1.39e-01  -4.4 2.15e+00    -  1.00e+00 2.50e-01f  3\n",
      "iter    objective    inf_pr   inf_du lg(mu)  ||d||  lg(rg) alpha_du alpha_pr  ls\n",
      "  10  4.1152709e+02 3.11e-15 2.23e-01  -5.0 4.74e-01    -  1.00e+00 1.00e+00f  1\n",
      "  11  4.1097598e+02 2.22e-15 1.26e-01  -5.6 4.83e-01    -  1.00e+00 1.00e+00f  1\n",
      "  12  4.1088139e+02 5.33e-15 6.26e-02  -6.5 2.61e-01    -  1.00e+00 1.00e+00f  1\n",
      "  13  4.1084075e+02 3.55e-15 5.69e-03  -7.7 7.89e-02    -  1.00e+00 1.00e+00f  1\n",
      "  14  4.1080455e+02 2.22e-15 1.55e-02  -9.6 2.36e-02    -  1.00e+00 1.00e+00f  1\n",
      "  15  4.1077119e+02 2.66e-15 5.53e-02 -10.2 3.93e-01    -  1.00e+00 2.50e-01f  3\n",
      "  16  4.1075992e+02 2.66e-15 3.59e-02 -11.0 1.87e-01    -  1.00e+00 2.50e-01f  3\n",
      "  17  4.1074506e+02 2.22e-15 1.25e-02 -11.0 4.01e-02    -  1.00e+00 1.00e+00f  1\n",
      "  18  4.1073683e+02 2.22e-15 2.29e-02 -11.0 8.25e-02    -  1.00e+00 5.00e-01f  2\n",
      "  19  4.1073371e+02 2.66e-15 3.72e-03 -11.0 3.36e-02    -  1.00e+00 1.00e+00f  1\n",
      "iter    objective    inf_pr   inf_du lg(mu)  ||d||  lg(rg) alpha_du alpha_pr  ls\n",
      "  20  4.1073211e+02 2.66e-15 1.01e-03 -11.0 6.14e-03    -  1.00e+00 1.00e+00f  1\n",
      "  21  4.1073070e+02 2.66e-15 1.21e-02 -11.0 3.40e-02    -  1.00e+00 5.00e-01f  2\n",
      "  22  4.1072950e+02 2.22e-15 3.76e-03 -11.0 8.82e-02    -  1.00e+00 2.50e-01f  3\n",
      "  23  4.1072910e+02 3.55e-15 3.22e-03 -11.0 3.97e-02    -  1.00e+00 2.50e-01f  3\n",
      "  24  4.1072868e+02 2.66e-15 3.19e-03 -11.0 7.32e-03    -  1.00e+00 1.00e+00f  1\n",
      "  25  4.1072851e+02 3.55e-15 9.54e-04 -11.0 1.08e-02    -  1.00e+00 5.00e-01f  2\n",
      "  26  4.1072837e+02 1.78e-15 1.58e-03 -11.0 2.21e-03    -  1.00e+00 1.00e+00f  1\n",
      "  27  4.1072831e+02 2.66e-15 1.10e-03 -11.0 7.41e-03    -  1.00e+00 5.00e-01f  2\n",
      "  28  4.1072827e+02 1.78e-15 7.04e-04 -11.0 4.11e-03    -  1.00e+00 5.00e-01f  2\n",
      "  29  4.1072825e+02 2.66e-15 8.67e-04 -11.0 3.56e-03    -  1.00e+00 5.00e-01f  2\n",
      "iter    objective    inf_pr   inf_du lg(mu)  ||d||  lg(rg) alpha_du alpha_pr  ls\n",
      "  30  4.1072823e+02 2.66e-15 6.07e-04 -11.0 4.06e-03    -  1.00e+00 5.00e-01f  2\n",
      "  31  4.1072823e+02 2.66e-15 9.41e-04 -11.0 2.13e-03    -  1.00e+00 1.00e+00f  1\n",
      "  32  4.1072822e+02 1.78e-15 2.00e-04 -11.0 1.57e-03    -  1.00e+00 1.00e+00f  1\n",
      "  33  4.1072821e+02 2.66e-15 4.13e-05 -11.0 2.85e-04    -  1.00e+00 1.00e+00h  1\n",
      "  34  4.1072821e+02 2.66e-15 1.28e-04 -11.0 4.63e-04    -  1.00e+00 1.00e+00h  1\n",
      "  35  4.1072821e+02 1.78e-15 3.05e-04 -11.0 2.12e-03    -  1.00e+00 2.50e-01f  3\n",
      "  36  4.1072821e+02 2.66e-15 1.40e-04 -11.0 1.96e-03    -  1.00e+00 2.50e-01h  3\n",
      "  37  4.1072821e+02 1.78e-15 1.37e-04 -11.0 3.86e-04    -  1.00e+00 1.00e+00h  1\n",
      "  38  4.1072821e+02 3.55e-15 1.13e-04 -11.0 6.11e-04    -  1.00e+00 5.00e-01h  2\n",
      "  39  4.1072821e+02 3.55e-15 2.68e-05 -11.0 1.75e-04    -  1.00e+00 1.00e+00h  1\n",
      "iter    objective    inf_pr   inf_du lg(mu)  ||d||  lg(rg) alpha_du alpha_pr  ls\n",
      "  40  4.1072821e+02 2.22e-15 7.65e-05 -11.0 1.45e-04    -  1.00e+00 1.00e+00h  1\n",
      "  41  4.1072821e+02 2.66e-15 4.38e-05 -11.0 3.10e-04    -  1.00e+00 2.50e-01h  3\n",
      "  42  4.1072821e+02 2.66e-15 9.66e-05 -11.0 1.90e-04    -  1.00e+00 1.00e+00h  1\n",
      "  43  4.1072821e+02 3.55e-15 9.06e-05 -11.0 2.50e-04    -  1.00e+00 1.00e+00h  1\n",
      "  44  4.1072821e+02 2.66e-15 6.04e-05 -11.0 2.09e-04    -  1.00e+00 1.00e+00h  1\n",
      "  45  4.1072821e+02 2.66e-15 3.58e-05 -11.0 1.33e-04    -  1.00e+00 1.00e+00h  1\n",
      "  46  4.1072821e+02 2.66e-15 2.12e-05 -11.0 7.88e-05    -  1.00e+00 1.00e+00h  1\n",
      "  47  4.1072821e+02 2.66e-15 6.40e-06 -11.0 3.83e-05    -  1.00e+00 1.00e+00h  1\n",
      "  48  4.1072821e+02 2.66e-15 4.32e-06 -11.0 1.49e-05    -  1.00e+00 1.00e+00h  1\n",
      "  49  4.1072821e+02 3.55e-15 2.11e-05 -11.0 3.52e-05    -  1.00e+00 1.00e+00h  1\n",
      "iter    objective    inf_pr   inf_du lg(mu)  ||d||  lg(rg) alpha_du alpha_pr  ls\n",
      "  50  4.1072821e+02 2.66e-15 6.73e-06 -11.0 1.14e-04    -  1.00e+00 2.50e-01h  3\n",
      "  51  4.1072821e+02 2.22e-15 2.94e-05 -11.0 4.00e-05    -  1.00e+00 1.00e+00h  1\n",
      "  52  4.1072821e+02 2.66e-15 7.61e-06 -11.0 5.12e-05    -  1.00e+00 1.00e+00h  1\n",
      "  53  4.1072821e+02 1.78e-15 1.55e-05 -11.0 3.20e-05    -  1.00e+00 1.00e+00h  1\n",
      "  54  4.1072821e+02 3.55e-15 1.22e-06 -11.0 1.97e-05    -  1.00e+00 1.00e+00h  1\n",
      "  55  4.1072821e+02 3.55e-15 4.40e-07 -11.0 1.37e-06    -  1.00e+00 1.00e+00h  1\n",
      "  56  4.1072821e+02 2.66e-15 3.25e-06 -11.0 3.98e-05    -  1.00e+00 1.25e-01h  4\n",
      "  57  4.1072821e+02 3.55e-15 6.23e-06 -11.0 1.00e-05    -  1.00e+00 1.00e+00h  1\n",
      "  58  4.1072821e+02 3.11e-15 1.09e-06 -11.0 3.52e-05    -  1.00e+00 2.50e-01h  3\n",
      "  59  4.1072821e+02 2.00e-15 7.95e-07 -11.0 1.47e-06    -  1.00e+00 1.00e+00h  1\n",
      "iter    objective    inf_pr   inf_du lg(mu)  ||d||  lg(rg) alpha_du alpha_pr  ls\n",
      "  60  4.1072821e+02 2.66e-15 2.61e-06 -11.0 4.74e-06    -  1.00e+00 1.00e+00h  1\n",
      "  61  4.1072821e+02 2.66e-15 3.02e-07 -11.0 4.05e-06    -  1.00e+00 1.00e+00h  1\n",
      "  62  4.1072821e+02 1.78e-15 1.50e-06 -11.0 2.49e-06    -  1.00e+00 1.00e+00h  1\n",
      "  63  4.1072821e+02 2.66e-15 1.09e-07 -11.0 2.23e-06    -  1.00e+00 1.00e+00h  1\n",
      "  64  4.1072821e+02 2.66e-15 8.55e-08 -11.0 2.69e-07    -  1.00e+00 1.00e+00h  1\n",
      "  65  4.1072821e+02 1.78e-15 1.46e-07 -11.0 3.22e-07    -  1.00e+00 1.00e+00h  1\n",
      "  66  4.1072821e+02 2.66e-15 2.31e-06 -11.0 3.40e-06    -  1.00e+00 1.00e+00h  1\n",
      "  67  4.1072821e+02 3.55e-15 4.39e-07 -11.0 3.81e-06    -  1.00e+00 1.00e+00h  1\n",
      "  68  4.1072821e+02 3.55e-15 1.08e-06 -11.0 2.05e-06    -  1.00e+00 1.00e+00h  1\n",
      "  69  4.1072821e+02 1.78e-15 4.93e-07 -11.0 2.16e-06    -  1.00e+00 1.00e+00h  1\n",
      "iter    objective    inf_pr   inf_du lg(mu)  ||d||  lg(rg) alpha_du alpha_pr  ls\n",
      "  70  4.1072821e+02 1.78e-15 1.35e-06 -11.0 2.56e-06    -  1.00e+00 1.00e+00h  1\n",
      "  71  4.1072821e+02 3.55e-15 9.76e-08 -11.0 2.01e-06    -  1.00e+00 1.00e+00h  1\n",
      "  72  4.1072821e+02 2.66e-15 1.41e-07 -11.0 3.29e-07    -  1.00e+00 1.00e+00h  1\n",
      "  73  4.1072821e+02 1.78e-15 6.53e-09 -11.0 1.88e-07    -  1.00e+00 1.00e+00h  1\n",
      "\n",
      "Number of Iterations....: 73\n",
      "\n",
      "                                   (scaled)                 (unscaled)\n",
      "Objective...............:   4.1072820937357989e+02    4.1072820937357989e+02\n",
      "Dual infeasibility......:   6.5281162799760101e-09    6.5281162799760101e-09\n",
      "Constraint violation....:   1.7763568394002505e-15    1.7763568394002505e-15\n",
      "Variable bound violation:   0.0000000000000000e+00    0.0000000000000000e+00\n",
      "Complementarity.........:   1.0000000000000003e-11    1.0000000000000003e-11\n",
      "Overall NLP error.......:   6.5281162799760101e-09    6.5281162799760101e-09\n",
      "\n",
      "\n",
      "Number of objective function evaluations             = 120\n",
      "Number of objective gradient evaluations             = 74\n",
      "Number of equality constraint evaluations            = 120\n",
      "Number of inequality constraint evaluations          = 0\n",
      "Number of equality constraint Jacobian evaluations   = 74\n",
      "Number of inequality constraint Jacobian evaluations = 0\n",
      "Number of Lagrangian Hessian evaluations             = 0\n",
      "Total seconds in IPOPT                               = 31.250\n",
      "\n",
      "EXIT: Optimal Solution Found.\n"
     ]
    }
   ],
   "source": [
    "results_clairv = ClA.exp_clairv_perceptron(x_incoming=x_incoming, \n",
    "                                            x_test=x_test,\n",
    "                                            dim_input=dim_input, \n",
    "                                            w_teach=w_teach,\n",
    "                                            w_target=w_target, \n",
    "                                            w_stud_0=w_stud_0,\n",
    "                                            eta=learning_rate, \n",
    "                                            beta=beta, \n",
    "                                            control_cost_weight=control_cost_weight,\n",
    "                                            a_min=a_min,\n",
    "                                            a_max=a_max,\n",
    "                                            activation=activation)"
   ]
  },
  {
   "cell_type": "code",
   "execution_count": 12,
   "id": "2674bfe6-5d2d-4634-97a4-a48323f70148",
   "metadata": {},
   "outputs": [],
   "source": [
    "w_dynamics_clairv = results_clairv['w_dynamics']\n",
    "a_dynamics_clairv = results_clairv['a_dynamics']\n",
    "nef_cost_dynamics_clairv = results_clairv['nef_cost_dynamics']\n",
    "per_cost_dynamics_clairv = results_clairv['per_cost_dynamics']\n",
    "cum_cost_dynamics_clairv = results_clairv['cum_cost_dynamics']\n",
    "d_dynamics_clairv = results_clairv['d_dynamics']\n",
    "\n",
    "# Overlaps\n",
    "overlap_clairv_star = np.dot(w_target, w_dynamics_clairv.T)/dim_input\n",
    "overlap_clairv_teach = np.dot(w_teach, w_dynamics_clairv.T)/dim_input"
   ]
  },
  {
   "cell_type": "markdown",
   "id": "6670a77a-babb-41ea-b919-34548609f939",
   "metadata": {},
   "source": [
    "## DeepRL"
   ]
  },
  {
   "cell_type": "markdown",
   "id": "37629b61-0c0d-4666-aa3e-0ab0e293e17d",
   "metadata": {},
   "source": [
    "## Steady-state cost comparison"
   ]
  },
  {
   "cell_type": "code",
   "execution_count": 13,
   "id": "7a46825f-e670-4189-806d-3533ae20e6ff",
   "metadata": {},
   "outputs": [
    {
     "data": {
      "text/plain": [
       "array([1.        , 1.        , 0.57688801, 0.54328063])"
      ]
     },
     "execution_count": 13,
     "metadata": {},
     "output_type": "execute_result"
    }
   ],
   "source": [
    "t_end = 4000\n",
    "#\n",
    "g_nef_C = nef_cost_dynamics_const[-t_end:]\n",
    "g_per_C = per_cost_dynamics_const[-t_end:]\n",
    "g_C = g_per_C + g_nef_C\n",
    "g_C_mean = np.mean(g_C)\n",
    "g_C_ci = sms.DescrStatsW(g_C).tconfint_mean(alpha=0.05)\n",
    "g_C_err = 0.5*(g_C_ci[1]-g_C_ci[0])\n",
    "#\n",
    "'''\n",
    "g_nef_RL = nef_cost_dynamics_deeprl[experiment_idx, -t_end:]\n",
    "g_per_RL = per_cost_dynamics_deeprl[experiment_idx, -t_end:]\n",
    "g_RL = g_per_RL + g_nef_RL\n",
    "g_RL_mean = np.mean(g_RL)\n",
    "g_RL_ci = sms.DescrStatsW(g_RL).tconfint_mean(alpha=0.05)\n",
    "g_RL_err = 0.5*(g_RL_ci[1]-g_RL_ci[0])\n",
    "'''\n",
    "g_RL_mean = g_C_mean # Not implemented yet\n",
    "g_RL_err = g_C_err # Not implemented yet\n",
    "#\n",
    "g_nef_G = nef_cost_dynamics_greedy[-t_end:]\n",
    "g_per_G = per_cost_dynamics_greedy[-t_end:]\n",
    "g_G = g_per_G + g_nef_G\n",
    "g_G_mean = np.mean(g_G)\n",
    "g_G_ci = sms.DescrStatsW(g_G).tconfint_mean(alpha=0.05)\n",
    "g_G_err = 0.5*(g_G_ci[1]-g_G_ci[0])\n",
    "#\n",
    "g_nef_CV = nef_cost_dynamics_clairv[-t_end:]\n",
    "g_per_CV = per_cost_dynamics_clairv[-t_end:]\n",
    "g_CV = g_per_CV + g_nef_CV\n",
    "g_CV_mean = np.mean(g_CV)\n",
    "g_CV_ci = sms.DescrStatsW(g_CV).tconfint_mean(alpha=0.05)\n",
    "g_CV_err = 0.5*(g_CV_ci[1]-g_CV_ci[0])\n",
    "\n",
    "g_mean = np.array([g_C_mean, g_RL_mean, g_G_mean, g_CV_mean])\n",
    "g_err = np.array([g_C_err, g_RL_err, g_G_err, g_CV_err])\n",
    "\n",
    "rescale = True\n",
    "if rescale:\n",
    "    scale = 1/max(g_mean)\n",
    "    g_mean = scale * g_mean\n",
    "    g_err = scale * g_err\n",
    "g_mean"
   ]
  },
  {
   "cell_type": "code",
   "execution_count": 14,
   "id": "1551fae5-9bb6-41a3-9350-b19365f0eb02",
   "metadata": {},
   "outputs": [
    {
     "data": {
      "image/png": "[encoded data removed]",
      "text/plain": [
       "<Figure size 203x186.083 with 1 Axes>"
      ]
     },
     "metadata": {},
     "output_type": "display_data"
    }
   ],
   "source": [
    "AF.SetPlotParams(magnification=0.7, ratio=float(2.2/2.4), fontsize=11, lines_w=0.7, ms=4)\n",
    "mpl.rcParams['axes.spines.right'] = False\n",
    "mpl.rcParams['axes.spines.top'] = False\n",
    "mpl.rc('text', usetex = True)\n",
    "mpl.rc('text.latex', preamble=r'\\usepackage{sfmath}')\n",
    "\n",
    "\n",
    "fig, ax = plt.subplots()\n",
    "\n",
    "dict_errorbars = dict(color='black', alpha=0.8, lw=0.5, capsize=0)\n",
    "\n",
    "colors = [orange, light_blue, lavander, light_red]\n",
    "\n",
    "y = g_mean\n",
    "y_err = g_err\n",
    "x_positions_bars = [1, 2, 3, 4]\n",
    "x_positions_labels = [1, 2, 3, 4] \n",
    "x_labels = ['C', 'RL', 'G', 'CV']\n",
    "\n",
    "width = 0.5\n",
    "lines_w = 0.5\n",
    "ax.bar(x_positions_bars, y, yerr=y_err, color=colors, alpha=0.8, width=width, lw=lines_w, error_kw=dict_errorbars)\n",
    "\n",
    "ax.set_xticks(x_positions_labels)\n",
    "ax.set_xticklabels(x_labels, rotation=0)\n",
    "ax.set_xlim([min(x_positions_labels)-1, max(x_positions_labels)+1])\n",
    "ax.set_ylabel('$\\overline{g}_{\\infty}/\\,\\overline{g}^{\\mathrm{\\,C}}_{\\infty}$')\n",
    "plt.grid(False)\n",
    "plt.show()"
   ]
  },
  {
   "cell_type": "markdown",
   "id": "d9cba94b-77b9-42af-bfc9-eca8696f9198",
   "metadata": {},
   "source": [
    "## Greedy VS Clairvoyant actions"
   ]
  },
  {
   "cell_type": "code",
   "execution_count": 15,
   "id": "ac8f4c0a-2b33-4e6f-9ebc-1cb1c9b49c5b",
   "metadata": {},
   "outputs": [
    {
     "data": {
      "image/png": "[encoded data removed]",
      "text/plain": [
       "<Figure size 217.5x217.5 with 1 Axes>"
      ]
     },
     "metadata": {},
     "output_type": "display_data"
    }
   ],
   "source": [
    "AF.SetPlotParams(magnification=.75, ratio=float(2.2/2.2), fontsize=11, lines_w=0.7, ms=4)\n",
    "mpl.rcParams['axes.spines.right'] = False\n",
    "mpl.rcParams['axes.spines.top'] = False\n",
    "mpl.rc('text', usetex = True)\n",
    "mpl.rc('text.latex', preamble=r'\\usepackage{sfmath}')\n",
    "\n",
    "\n",
    "fig, ax = plt.subplots(1, 1)\n",
    "\n",
    "x = a_dynamics_clairv[-3000:-500]\n",
    "y = a_dynamics_greedy[-3000:-500]\n",
    "color = 'white'\n",
    "facecolor = orange \n",
    "ax.scatter(x, y, facecolor=facecolor, edgecolor=color, lw=0.3, s=15, alpha=.5)\n",
    "x_diag = np.arange(-0.1, 1.9, 0.1)\n",
    "ax.plot(x_diag, x_diag, lw=1., ls=':', color='black')\n",
    "\n",
    "ax.set_xlabel('$a_{\\mu}^{\\mathrm{CV}}$')\n",
    "ax.set_ylabel('$a_{\\mu}^{\\mathrm{G}}$')\n",
    "\n",
    "plt.grid()\n",
    "ax.set_xlim([-0.15, 2.])\n",
    "ax.set_ylim([-0.15, 2.])\n",
    "ax.set_xticks([0, 1., 2])\n",
    "ax.set_yticks([0, 1, 2])\n",
    "plt.show()"
   ]
  },
  {
   "cell_type": "markdown",
   "id": "44fcf4ee-f758-4970-a4ad-78903470e394",
   "metadata": {},
   "source": [
    "## Greedy and Clairvoyant overlaps"
   ]
  },
  {
   "cell_type": "code",
   "execution_count": 16,
   "id": "ef66efe5-d7bd-4c9e-9f51-6ce8f830f874",
   "metadata": {},
   "outputs": [
    {
     "data": {
      "image/png": "[encoded data removed]",
      "text/plain": [
       "<Figure size 304.5x209.344 with 1 Axes>"
      ]
     },
     "metadata": {},
     "output_type": "display_data"
    }
   ],
   "source": [
    "# Plot\n",
    "AF.SetPlotParams(magnification=1.05, ratio=float(2.2/3.2), fontsize=11, lines_w=0.7, ms=4)\n",
    "mpl.rcParams['axes.spines.right'] = False\n",
    "mpl.rcParams['axes.spines.top'] = False\n",
    "mpl.rc('text', usetex = True)\n",
    "mpl.rc('text.latex', preamble=r'\\usepackage{sfmath}')\n",
    "\n",
    "\n",
    "fig, ax = plt.subplots(1, 1)\n",
    "\n",
    "lw = .8\n",
    "lw_dot = .8\n",
    "t_end = 500\n",
    "x = np.arange(t_end) \n",
    "y_G = overlap_greedy_star[0:t_end]\n",
    "y_CV = overlap_clairv_star[0:t_end]\n",
    "color = coral\n",
    "ax.plot(x, y_G, lw=lw, color=color, label='$O^{\\mathrm{G}}_{\\mathrm{s}*}$')\n",
    "ax.plot(x, y_CV, ls=':', lw=lw_dot, color=color, label='$O^{\\mathrm{CV}}_{\\mathrm{s}*}$')\n",
    "\n",
    "y_G = overlap_greedy_teach[0:t_end]\n",
    "y_CV = overlap_clairv_teach[0:t_end]\n",
    "color = green\n",
    "ax.plot(x, y_G, lw=lw, color=color, label='$O^{\\mathrm{G}}_{\\mathrm{st}}$')\n",
    "ax.plot(x, y_CV, ls=':', lw=lw_dot, color=color, label='$O^{\\mathrm{CV}}_{\\mathrm{st}}$')\n",
    "\n",
    "ax.set_xlabel('$\\mu$')\n",
    "ax.set_ylabel('$O_{\\mu}$')\n",
    "\n",
    "plt.grid()\n",
    "ax.set_xlim([-15, t_end])\n",
    "ax.set_ylim([-1.15, 1.15])\n",
    "ax.set_xticks([0, t_end/2, t_end])\n",
    "ax.set_yticks([-1, 0, 1])\n",
    "ax.legend(bbox_to_anchor=(1.04, 0.5), loc=\"center left\", borderaxespad=0)\n",
    "plt.show()"
   ]
  },
  {
   "cell_type": "markdown",
   "id": "cd4ae108-1263-45c4-84c3-b1313f55ada7",
   "metadata": {},
   "source": [
    "## Greedy and RL actions"
   ]
  },
  {
   "cell_type": "code",
   "execution_count": 29,
   "id": "596a2984-244d-45b1-9fb0-c88148c10025",
   "metadata": {},
   "outputs": [
    {
     "data": {
      "image/png": "[encoded data removed]",
      "text/plain": [
       "<Figure size 219.24x146.16 with 1 Axes>"
      ]
     },
     "metadata": {},
     "output_type": "display_data"
    }
   ],
   "source": [
    "if False:\n",
    "    AF.SetPlotParams(magnification=1.05, ratio=float(2.2/3.3), fontsize=11, lines_w=0.7, ms=4)\n",
    "    mpl.rcParams['axes.spines.right'] = False\n",
    "    mpl.rcParams['axes.spines.top'] = False\n",
    "    mpl.rc('text', usetex = True)\n",
    "    mpl.rc('text.latex', preamble=r'\\usepackage{sfmath}')\n",
    "\n",
    "\n",
    "    fig, ax = plt.subplots(1, 1)\n",
    "\n",
    "    lw = .7\n",
    "    t_start = 300\n",
    "    t_end = t_start + 80\n",
    "    x = np.arange(t_start, t_end) \n",
    "    y_G = a_dynamics_greedy[t_start:t_end]\n",
    "    y_RL = a_dynamics_deeprl[experiment_idx, t_start:t_end]\n",
    "    y_CV = a_dynamics_clairv[t_start:t_end]\n",
    "    color = 'black'\n",
    "    ax.plot(x, y_G, ls=':', marker='', lw=lw, color=color, label='greedy')\n",
    "    color = light_blue\n",
    "    ax.plot(x, y_RL, lw=1., ls='-', marker='', color=color, alpha=0.7, label='RL (best)')\n",
    "\n",
    "    ax.set_xlabel('$\\mu$')\n",
    "    ax.set_ylabel('$a_{\\mu}$')\n",
    "\n",
    "    plt.grid()\n",
    "    ax.set_xlim([t_start, t_end])\n",
    "    ax.set_xticks([t_start, (t_start+t_end)/2, t_end])\n",
    "    ax.set_yticks([-0.5, 0.5, 1.5])\n",
    "    plt.legend(bbox_to_anchor=(-0., 1.02, 1, 0.2), loc=\"lower left\", mode=\"expand\", borderaxespad=0, ncol=2)\n",
    "    plt.show()"
   ]
  }
 ],
 "metadata": {
  "kernelspec": {
   "display_name": "OptimalControlAttaks",
   "language": "python",
   "name": "optimalcontrolattaks"
  },
  "language_info": {
   "codemirror_mode": {
    "name": "ipython",
    "version": 3
   },
   "file_extension": ".py",
   "mimetype": "text/x-python",
   "name": "python",
   "nbconvert_exporter": "python",
   "pygments_lexer": "ipython3",
   "version": "3.8.18"
  }
 },
 "nbformat": 4,
 "nbformat_minor": 5
}

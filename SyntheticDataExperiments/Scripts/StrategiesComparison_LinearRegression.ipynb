{
 "cells": [
  {
   "cell_type": "markdown",
   "id": "4bd7ac25-9549-40fb-95e7-704828689c02",
   "metadata": {},
   "source": [
    "# Import"
   ]
  },
  {
   "cell_type": "code",
   "execution_count": null,
   "id": "08eb9240-adde-4fb5-8cd4-dd5c1db39b75",
   "metadata": {},
   "outputs": [],
   "source": [
    "import numpy as np\n",
    "import statsmodels.stats.api as sms\n",
    "import matplotlib.pyplot as plt\n",
    "import matplotlib as mpl\n",
    "from stable_baselines3 import TD3\n",
    "\n",
    "import sys\n",
    "import os\n",
    "local_path = '/Users/riccardo/Documents/GitHub/' #'path_to_progect_folder/'\n",
    "sys.path.append(local_path+'OptimalControlAttacks/SyntheticDataExperiments/')\n",
    "from Modules import GreedyAttacks as GA\n",
    "from Modules import ConstantAttacks as CoA\n",
    "from Modules import ClairvoyantAttacks as ClA\n",
    "from Modules import DeepRLAttacks as RLA\n",
    "from Modules import AuxiliaryFunctions as AF\n",
    "from Parameters import ParametersAttacksComparison_LinearRegression as Par"
   ]
  },
  {
   "cell_type": "markdown",
   "id": "d237b5fb-1c10-44ef-a02c-bf175027c936",
   "metadata": {
    "tags": []
   },
   "source": [
    "# Colors"
   ]
  },
  {
   "cell_type": "code",
   "execution_count": null,
   "id": "f559bc37-a2b8-4bcc-9f8b-bee3a6a7ca49",
   "metadata": {},
   "outputs": [],
   "source": [
    "green = '#7FB285'\n",
    "coral = '#FF8360'\n",
    "light_blue = '#3C8DAD'\n",
    "lavander = '#D5C6E0'\n",
    "light_red = '#FF616D'\n",
    "orange = '#F5A962'"
   ]
  },
  {
   "cell_type": "markdown",
   "id": "f1be3824-c44b-402c-90b7-b3f73f135c55",
   "metadata": {},
   "source": [
    "# Parameters"
   ]
  },
  {
   "cell_type": "code",
   "execution_count": null,
   "id": "688d4b09-8ab9-4aae-9628-6b4cabedbdb1",
   "metadata": {},
   "outputs": [],
   "source": [
    "# Activation\n",
    "activation = Par.activation\n",
    "\n",
    "# Input data parameters\n",
    "dim_input = Par.dim_input\n",
    "batch_size = Par.batch_size\n",
    "mu_x = Par.mu_x\n",
    "sigma_x = Par.sigma_x\n",
    "n_runs_experiments = Par.n_runs_experiments\n",
    "\n",
    "# Dynamics parameters\n",
    "learning_rate = Par.learning_rate\n",
    "gamma = Par.gamma\n",
    "beta = Par.beta\n",
    "\n",
    "# N. samples\n",
    "n_timesteps = Par.n_timesteps\n",
    "n_timesteps_transient_th = Par.n_timesteps_transient_th\n",
    "n_timesteps_past = Par.n_timesteps_past\n",
    "n_samples_average = Par.n_samples_average\n",
    "n_samples_buffer = Par.n_samples_buffer\n",
    "n_samples_test = Par.n_samples_test\n",
    "\n",
    "# Control parameters\n",
    "a_min = Par.a_min\n",
    "a_max = Par.a_max\n",
    "n_a_gridpoints = Par.n_a_gridpoints\n",
    "n_runs_calibration = Par.n_runs_calibration\n",
    "control_cost_weight = Par.control_cost_weight\n",
    "greedy_weight_future = Par.greedy_weight_future\n",
    "opt_pref = Par.opt_pref\n",
    "fut_pref = Par.fut_pref\n",
    "\n",
    "# DeepRL Agent\n",
    "agent_model_name = Par.agent_model_name\n",
    "n_actions = Par.n_actions\n",
    "use_action_noise = Par.use_action_noise\n",
    "action_noise_mean = Par.action_noise_mean\n",
    "action_noise_std = Par.action_noise_std\n",
    "use_small_achitecture = Par.use_small_achitecture\n",
    "randomise_initial_condition = Par.randomise_initial_condition\n",
    "shuffle_array = Par.shuffle_array\n",
    "learning_rate_agent = Par.learning_rate_agent\n",
    "activation_fn = Par.activation_fn\n",
    "n_episodes = Par.n_episodes\n",
    "save_freq = Par.save_freq\n",
    "\n",
    "# Strings/paths\n",
    "experiment_description = Par.experiment_description\n",
    "path_agent = Par.path_agent\n",
    "export_path = Par.export_path\n",
    "rlmodels_path = Par.rlmodels_path"
   ]
  },
  {
   "cell_type": "markdown",
   "id": "c53ab8a9-a3c8-419d-a00d-a7f8fb1ef760",
   "metadata": {},
   "source": [
    "# Arrays"
   ]
  },
  {
   "cell_type": "code",
   "execution_count": null,
   "id": "0a1398fe-d34d-426f-af51-56d796648725",
   "metadata": {},
   "outputs": [],
   "source": [
    "# Arrays (assuming batch_size as specified above)\n",
    "x_incoming_arr = np.random.normal(mu_x, sigma_x, (n_runs_experiments, batch_size*n_timesteps, dim_input))\n",
    "x_past = np.random.normal(mu_x, sigma_x, (batch_size*n_timesteps_past, dim_input))\n",
    "x_buffer = np.random.normal(mu_x, sigma_x, (batch_size*n_samples_buffer, dim_input))\n",
    "x_test = np.random.normal(mu_x, sigma_x, (batch_size*n_samples_test, dim_input))"
   ]
  },
  {
   "cell_type": "markdown",
   "id": "b1748d27-a591-4b58-9064-023f1014dd3b",
   "metadata": {},
   "source": [
    "# Single run"
   ]
  },
  {
   "cell_type": "code",
   "execution_count": null,
   "id": "7da1fd30-cf98-47d2-99af-28ab97d36f09",
   "metadata": {},
   "outputs": [],
   "source": [
    "run_index = 0\n",
    "x_incoming = x_incoming_arr[run_index]"
   ]
  },
  {
   "cell_type": "code",
   "execution_count": null,
   "id": "c16789a6-11b7-466a-a940-44000bb2dc5c",
   "metadata": {},
   "outputs": [],
   "source": [
    "# Teacher\n",
    "w_teach = np.ones(dim_input) #np.random.normal(0, 1, dim_input)\n",
    "w_teach = w_teach/(np.sum(w_teach**2)/dim_input)**0.5\n",
    "# Target\n",
    "w_target = -w_teach\n",
    "# Student (initial condition)\n",
    "w_stud_0 = w_teach\n",
    "\n",
    "# Action cost pre-factor\n",
    "input_t_test = np.dot(w_teach, x_test.T)/(dim_input**0.5)\n",
    "input_o_test = np.dot(w_target, x_test.T)/(dim_input**0.5)\n",
    "label_t_test = GA.perceptron(input_t_test, activation=activation)\n",
    "label_o_test = GA.perceptron(input_o_test, activation=activation)\n",
    "error_target_teach = np.mean((label_o_test-label_t_test)**2)\n",
    "d_target_teach = 0.5 * error_target_teach\n",
    "pref_control_cost_weight = (2*d_target_teach)\n",
    "print('Pre-factor control cost: %.2f' % pref_control_cost_weight)"
   ]
  },
  {
   "cell_type": "markdown",
   "id": "a73727f2-f957-49f9-aa65-de2ed73285d1",
   "metadata": {},
   "source": [
    "## Constant"
   ]
  },
  {
   "cell_type": "code",
   "execution_count": null,
   "id": "ea672628-afee-4d5e-bb86-1e96e8eae0d1",
   "metadata": {},
   "outputs": [],
   "source": [
    "opt_a_const = False\n",
    "a_const = 0.5\n",
    "results_constant = CoA.exp_const_perceptron(x_incoming=x_incoming, \n",
    "                                            x_past=x_past,\n",
    "                                            x_buffer = x_buffer,\n",
    "                                            x_test=x_test,\n",
    "                                            dim_input=dim_input, \n",
    "                                            w_teach=w_teach,\n",
    "                                            w_target=w_target, \n",
    "                                            w_stud_0=w_stud_0,\n",
    "                                            eta=learning_rate, \n",
    "                                            beta=beta, \n",
    "                                            control_cost_weight=control_cost_weight,\n",
    "                                            a_min=a_min,\n",
    "                                            a_max=a_max,\n",
    "                                            batch_size=batch_size,\n",
    "                                            activation=activation, \n",
    "                                            transient_th=n_timesteps_transient_th,\n",
    "                                            opt_a_const=opt_a_const, \n",
    "                                            a_const=a_const, \n",
    "                                            n_gridpoints=n_a_gridpoints, \n",
    "                                            n_av=n_runs_calibration)"
   ]
  },
  {
   "cell_type": "code",
   "execution_count": null,
   "id": "2a7669cf-1ebe-4cdc-9bf9-17d5e1220513",
   "metadata": {},
   "outputs": [],
   "source": [
    "w_dynamics_const = results_constant['w_dynamics']\n",
    "a_dynamics_const = results_constant['a_dynamics']\n",
    "nef_cost_dynamics_const = results_constant['nef_cost_dynamics']\n",
    "per_cost_dynamics_const = results_constant['per_cost_dynamics']\n",
    "cum_cost_dynamics_const = results_constant['cum_cost_dynamics']\n",
    "\n",
    "# Overlaps\n",
    "overlap_const_star = np.dot(w_target, w_dynamics_const.T)/dim_input\n",
    "overlap_const_teach = np.dot(w_teach, w_dynamics_const.T)/dim_input"
   ]
  },
  {
   "cell_type": "markdown",
   "id": "09540323-37e2-41e6-83d6-b102ffaee0f7",
   "metadata": {},
   "source": [
    "## Greedy"
   ]
  },
  {
   "cell_type": "code",
   "execution_count": null,
   "id": "69cc6a30-9808-46c9-9808-78af458ec49b",
   "metadata": {},
   "outputs": [],
   "source": [
    "print(fut_pref)\n",
    "print(opt_pref)\n",
    "fut_pref_interval = 0.1\n",
    "fut_pref_min = 0.5\n",
    "fut_pref_max = 1.5 + fut_pref_interval\n",
    "\n",
    "opt_pref_local = False\n",
    "fut_pref_local = 1\n",
    "\n",
    "results_greedy = GA.exp_greedy_perceptron(x_incoming=x_incoming, \n",
    "                                           x_past=x_past, \n",
    "                                           x_buffer=x_buffer, \n",
    "                                           x_test=x_test,\n",
    "                                           dim_input=dim_input,\n",
    "                                           w_teach=w_teach, \n",
    "                                           w_target=w_target,\n",
    "                                           w_stud_0=w_stud_0,\n",
    "                                           eta=learning_rate,\n",
    "                                           beta=beta, \n",
    "                                           control_cost_weight=control_cost_weight,\n",
    "                                           a_min=a_min, \n",
    "                                           a_max=a_max,\n",
    "                                           batch_size=batch_size,\n",
    "                                           weight_future=greedy_weight_future,\n",
    "                                           buffer_size=n_samples_average,\n",
    "                                           activation=activation,\n",
    "                                           transient_th=n_timesteps_transient_th,\n",
    "                                           fut_pref=fut_pref_local,\n",
    "                                           opt_pref=opt_pref_local, \n",
    "                                           fut_pref_interval=fut_pref_interval,\n",
    "                                           fut_pref_min=fut_pref_min, \n",
    "                                           fut_pref_max=fut_pref_max,\n",
    "                                           n_av=n_runs_calibration, \n",
    "                                           n_gridpoints=n_a_gridpoints)"
   ]
  },
  {
   "cell_type": "code",
   "execution_count": null,
   "id": "412a0086-329a-4e85-91ea-2fdcc0cd6f44",
   "metadata": {},
   "outputs": [],
   "source": [
    "w_dynamics_greedy = results_greedy['w_dynamics']\n",
    "a_dynamics_greedy = results_greedy['a_dynamics']\n",
    "nef_cost_dynamics_greedy = results_greedy['nef_cost_dynamics']\n",
    "per_cost_dynamics_greedy = results_greedy['per_cost_dynamics']\n",
    "cum_cost_dynamics_greedy = results_greedy['cum_cost_dynamics']\n",
    "d_dynamics_greedy = results_greedy['d_dynamics']\n",
    "\n",
    "# Overlaps\n",
    "overlap_greedy_star = np.dot(w_target, w_dynamics_greedy.T)/dim_input\n",
    "overlap_greedy_teach = np.dot(w_teach, w_dynamics_greedy.T)/dim_input"
   ]
  },
  {
   "cell_type": "markdown",
   "id": "2cb168a3-9cda-432c-910f-3b41a88df64e",
   "metadata": {
    "tags": []
   },
   "source": [
    "## Clairvoyant"
   ]
  },
  {
   "cell_type": "code",
   "execution_count": null,
   "id": "3a411d1b-f4b7-4c29-b316-fad6905cd8a0",
   "metadata": {},
   "outputs": [],
   "source": [
    "results_clairv = ClA.exp_clairv_perceptron(x_incoming=x_incoming, \n",
    "                                            x_test=x_test,\n",
    "                                            dim_input=dim_input, \n",
    "                                            w_teach=w_teach,\n",
    "                                            w_target=w_target, \n",
    "                                            w_stud_0=w_stud_0,\n",
    "                                            eta=learning_rate, \n",
    "                                            beta=beta, \n",
    "                                            control_cost_weight=control_cost_weight,\n",
    "                                            a_min=a_min,\n",
    "                                            a_max=a_max,\n",
    "                                            activation=activation)"
   ]
  },
  {
   "cell_type": "code",
   "execution_count": null,
   "id": "2674bfe6-5d2d-4634-97a4-a48323f70148",
   "metadata": {},
   "outputs": [],
   "source": [
    "w_dynamics_clairv = results_clairv['w_dynamics']\n",
    "a_dynamics_clairv = results_clairv['a_dynamics']\n",
    "nef_cost_dynamics_clairv = results_clairv['nef_cost_dynamics']\n",
    "per_cost_dynamics_clairv = results_clairv['per_cost_dynamics']\n",
    "cum_cost_dynamics_clairv = results_clairv['cum_cost_dynamics']\n",
    "d_dynamics_clairv = results_clairv['d_dynamics']\n",
    "\n",
    "# Overlaps\n",
    "overlap_clairv_star = np.dot(w_target, w_dynamics_clairv.T)/dim_input\n",
    "overlap_clairv_teach = np.dot(w_teach, w_dynamics_clairv.T)/dim_input"
   ]
  },
  {
   "cell_type": "markdown",
   "id": "6670a77a-babb-41ea-b919-34548609f939",
   "metadata": {},
   "source": [
    "## DeepRL"
   ]
  },
  {
   "cell_type": "code",
   "execution_count": null,
   "id": "acb60d0b-5eb7-4101-9223-b899a5a77590",
   "metadata": {},
   "outputs": [],
   "source": [
    "# Load performance\n",
    "models_description = '_agent#%s' % (agent_model_name)\n",
    "name = 'ObjectiveVSTrainingSteps'\n",
    "filename = name + '_@@@' + models_description + experiment_description + '.npy'\n",
    "obj_vs_trainingsteps = np.load(rlmodels_path + filename, allow_pickle=True)\n",
    "name = 'TrainingSteps'\n",
    "filename = name + '_@@@' + models_description + experiment_description + '.npy'\n",
    "trainingsteps = np.load(rlmodels_path + filename, allow_pickle=True)\n",
    "\n",
    "# Poisoning environment\n",
    "randomise_initial_condition = False\n",
    "shuffle_array = False\n",
    "env = RLA.EnvironmentPerceptron(x_arr=x_incoming,\n",
    "                                batch_size=batch_size,\n",
    "                                w_stud_0=w_stud_0, \n",
    "                                w_teach=w_teach, \n",
    "                                w_target=w_target, \n",
    "                                a_min=a_min,\n",
    "                                a_max=a_max,\n",
    "                                learning_rate=learning_rate, \n",
    "                                control_cost_weight=pref_control_cost_weight*control_cost_weight, \n",
    "                                activation=activation, \n",
    "                                randomise_initial_condition=randomise_initial_condition, \n",
    "                                shuffle_array=shuffle_array)\n",
    "\n",
    "# Load model\n",
    "best_model_t = trainingsteps[np.argmin(obj_vs_trainingsteps)]\n",
    "path_to_model = path_agent + f'/rl_model_{best_model_t}_steps.zip'\n",
    "#path_to_buffer = path_repbuffer + f'rl_model_replay_buffer_{timesteps_past}_steps.pkl'\n",
    "if os.path.exists(path_to_model):\n",
    "    model = TD3.load(path_to_model, env)\n",
    "    #model_iter.load_replay_buffer(path_to_buffer)\n",
    "    print('Model: %d steps (episode %d)' % (best_model_t, 1+int(best_model_t/n_timesteps_past))) \n",
    "    steps_flag = True\n",
    "else:\n",
    "    print('  %d-model not found (ep %d)' % (best_model_t, 1+int(best_model_t/n_timesteps_past))) \n",
    "    \n",
    "# Experiment\n",
    "results_deeprl = RLA.exp_rl_perceptron(model, env, x_test)\n",
    "print('Done!')"
   ]
  },
  {
   "cell_type": "code",
   "execution_count": null,
   "id": "03e0892f-d4cf-44b2-915d-f2e6570326e5",
   "metadata": {},
   "outputs": [],
   "source": [
    "w_dynamics_deeprl = results_deeprl['w_dynamics']\n",
    "a_dynamics_deeprl = results_deeprl['a_dynamics']\n",
    "nef_cost_dynamics_deeprl = results_deeprl['nef_cost_dynamics']\n",
    "per_cost_dynamics_deeprl = results_deeprl['per_cost_dynamics']\n",
    "cum_cost_dynamics_deeprl = results_deeprl['cum_cost_dynamics']\n",
    "d_dynamics_deeprl = results_deeprl['d_dynamics']\n",
    "\n",
    "# Overlaps\n",
    "overlap_deeprl_star = np.dot(w_target, w_dynamics_deeprl.T)/dim_input\n",
    "overlap_deeprl_teach = np.dot(w_teach, w_dynamics_deeprl.T)/dim_input"
   ]
  },
  {
   "cell_type": "markdown",
   "id": "1dd7b699-4309-417b-b005-2ce601109c2f",
   "metadata": {},
   "source": [
    "## Figures"
   ]
  },
  {
   "cell_type": "markdown",
   "id": "37629b61-0c0d-4666-aa3e-0ab0e293e17d",
   "metadata": {},
   "source": [
    "### Steady-state cost comparison"
   ]
  },
  {
   "cell_type": "code",
   "execution_count": null,
   "id": "7a46825f-e670-4189-806d-3533ae20e6ff",
   "metadata": {},
   "outputs": [],
   "source": [
    "t_end = 4000\n",
    "#\n",
    "g_nef_C = nef_cost_dynamics_const[-t_end:]\n",
    "g_per_C = per_cost_dynamics_const[-t_end:]\n",
    "g_C = g_per_C + g_nef_C\n",
    "g_C_mean = np.mean(g_C)\n",
    "g_C_ci = sms.DescrStatsW(g_C).tconfint_mean(alpha=0.05)\n",
    "g_C_err = 0.5*(g_C_ci[1]-g_C_ci[0])\n",
    "#\n",
    "g_nef_RL = nef_cost_dynamics_deeprl[-t_end:]\n",
    "g_per_RL = per_cost_dynamics_deeprl[-t_end:]\n",
    "g_RL = g_per_RL + g_nef_RL\n",
    "g_RL_mean = np.mean(g_RL)\n",
    "g_RL_ci = sms.DescrStatsW(g_RL).tconfint_mean(alpha=0.05)\n",
    "g_RL_err = 0.5*(g_RL_ci[1]-g_RL_ci[0])\n",
    "#\n",
    "g_nef_G = nef_cost_dynamics_greedy[-t_end:]\n",
    "g_per_G = per_cost_dynamics_greedy[-t_end:]\n",
    "g_G = g_per_G + g_nef_G\n",
    "g_G_mean = np.mean(g_G)\n",
    "g_G_ci = sms.DescrStatsW(g_G).tconfint_mean(alpha=0.05)\n",
    "g_G_err = 0.5*(g_G_ci[1]-g_G_ci[0])\n",
    "#\n",
    "g_nef_CV = nef_cost_dynamics_clairv[-t_end:]\n",
    "g_per_CV = per_cost_dynamics_clairv[-t_end:]\n",
    "g_CV = g_per_CV + g_nef_CV\n",
    "g_CV_mean = np.mean(g_CV)\n",
    "g_CV_ci = sms.DescrStatsW(g_CV).tconfint_mean(alpha=0.05)\n",
    "g_CV_err = 0.5*(g_CV_ci[1]-g_CV_ci[0])\n",
    "\n",
    "g_mean = np.array([g_C_mean, g_RL_mean, g_G_mean, g_CV_mean])\n",
    "g_err = np.array([g_C_err, g_RL_err, g_G_err, g_CV_err])\n",
    "\n",
    "rescale = False\n",
    "if rescale:\n",
    "    scale = 1/max(g_mean)\n",
    "    g_mean = scale * g_mean\n",
    "    g_err = scale * g_err\n",
    "g_mean"
   ]
  },
  {
   "cell_type": "code",
   "execution_count": null,
   "id": "1551fae5-9bb6-41a3-9350-b19365f0eb02",
   "metadata": {},
   "outputs": [],
   "source": [
    "AF.SetPlotParams(magnification=0.7, ratio=float(2.2/2.4), fontsize=11, lines_w=0.7, ms=4)\n",
    "mpl.rcParams['axes.spines.right'] = False\n",
    "mpl.rcParams['axes.spines.top'] = False\n",
    "mpl.rc('text', usetex = True)\n",
    "mpl.rc('text.latex', preamble=r'\\usepackage{sfmath}')\n",
    "\n",
    "\n",
    "fig, ax = plt.subplots()\n",
    "\n",
    "dict_errorbars = dict(color='black', alpha=0.8, lw=0.5, capsize=0)\n",
    "\n",
    "colors = [orange, light_blue, lavander, light_red]\n",
    "\n",
    "y = g_mean\n",
    "y_err = g_err\n",
    "x_positions_bars = [1, 2, 3, 4]\n",
    "x_positions_labels = [1, 2, 3, 4] \n",
    "x_labels = ['C', 'RL', 'G', 'CV']\n",
    "\n",
    "width = 0.5\n",
    "lines_w = 0.5\n",
    "ax.bar(x_positions_bars, y, yerr=y_err, color=colors, alpha=0.8, width=width, lw=lines_w, error_kw=dict_errorbars)\n",
    "\n",
    "ax.set_xticks(x_positions_labels)\n",
    "ax.set_xticklabels(x_labels, rotation=0)\n",
    "ax.set_xlim([min(x_positions_labels)-1, max(x_positions_labels)+1])\n",
    "ax.set_ylabel('$\\overline{g}_{\\infty}/\\,\\overline{g}^{\\mathrm{\\,C}}_{\\infty}$')\n",
    "plt.grid(False)\n",
    "plt.show()"
   ]
  },
  {
   "cell_type": "markdown",
   "id": "d9cba94b-77b9-42af-bfc9-eca8696f9198",
   "metadata": {},
   "source": [
    "### Greedy VS Clairvoyant actions"
   ]
  },
  {
   "cell_type": "code",
   "execution_count": null,
   "id": "ac8f4c0a-2b33-4e6f-9ebc-1cb1c9b49c5b",
   "metadata": {},
   "outputs": [],
   "source": [
    "AF.SetPlotParams(magnification=.75, ratio=float(2.2/2.2), fontsize=11, lines_w=0.7, ms=4)\n",
    "mpl.rcParams['axes.spines.right'] = False\n",
    "mpl.rcParams['axes.spines.top'] = False\n",
    "mpl.rc('text', usetex = True)\n",
    "mpl.rc('text.latex', preamble=r'\\usepackage{sfmath}')\n",
    "\n",
    "\n",
    "fig, ax = plt.subplots(1, 1)\n",
    "\n",
    "x = a_dynamics_clairv[-3000:-500]\n",
    "y = a_dynamics_greedy[-3000:-500]\n",
    "color = 'white'\n",
    "facecolor = orange \n",
    "ax.scatter(x, y, facecolor=facecolor, edgecolor=color, lw=0.3, s=15, alpha=.5)\n",
    "x_diag = np.arange(-0.1, 1.9, 0.1)\n",
    "ax.plot(x_diag, x_diag, lw=1., ls=':', color='black')\n",
    "\n",
    "ax.set_xlabel('$a_{\\mu}^{\\mathrm{CV}}$')\n",
    "ax.set_ylabel('$a_{\\mu}^{\\mathrm{G}}$')\n",
    "\n",
    "plt.grid()\n",
    "ax.set_xlim([-0.15, 2.])\n",
    "ax.set_ylim([-0.15, 2.])\n",
    "ax.set_xticks([0, 1., 2])\n",
    "ax.set_yticks([0, 1, 2])\n",
    "plt.show()"
   ]
  },
  {
   "cell_type": "markdown",
   "id": "44fcf4ee-f758-4970-a4ad-78903470e394",
   "metadata": {},
   "source": [
    "### Greedy and Clairvoyant overlaps"
   ]
  },
  {
   "cell_type": "code",
   "execution_count": null,
   "id": "ef66efe5-d7bd-4c9e-9f51-6ce8f830f874",
   "metadata": {},
   "outputs": [],
   "source": [
    "# Plot\n",
    "AF.SetPlotParams(magnification=1.05, ratio=float(2.2/3.2), fontsize=11, lines_w=0.7, ms=4)\n",
    "mpl.rcParams['axes.spines.right'] = False\n",
    "mpl.rcParams['axes.spines.top'] = False\n",
    "mpl.rc('text', usetex = True)\n",
    "mpl.rc('text.latex', preamble=r'\\usepackage{sfmath}')\n",
    "\n",
    "\n",
    "fig, ax = plt.subplots(1, 1)\n",
    "\n",
    "lw = .8\n",
    "lw_dot = .8\n",
    "t_end = 500\n",
    "x = np.arange(t_end) \n",
    "y_G = overlap_greedy_star[0:t_end]\n",
    "y_CV = overlap_clairv_star[0:t_end]\n",
    "color = coral\n",
    "ax.plot(x, y_G, lw=lw, color=color, label='$O^{\\mathrm{G}}_{\\mathrm{s}*}$')\n",
    "ax.plot(x, y_CV, ls=':', lw=lw_dot, color=color, label='$O^{\\mathrm{CV}}_{\\mathrm{s}*}$')\n",
    "\n",
    "y_G = overlap_greedy_teach[0:t_end]\n",
    "y_CV = overlap_clairv_teach[0:t_end]\n",
    "color = green\n",
    "ax.plot(x, y_G, lw=lw, color=color, label='$O^{\\mathrm{G}}_{\\mathrm{st}}$')\n",
    "ax.plot(x, y_CV, ls=':', lw=lw_dot, color=color, label='$O^{\\mathrm{CV}}_{\\mathrm{st}}$')\n",
    "\n",
    "ax.set_xlabel('$\\mu$')\n",
    "ax.set_ylabel('$O_{\\mu}$')\n",
    "\n",
    "plt.grid()\n",
    "ax.set_xlim([-15, t_end])\n",
    "ax.set_ylim([-1.15, 1.15])\n",
    "ax.set_xticks([0, t_end/2, t_end])\n",
    "ax.set_yticks([-1, 0, 1])\n",
    "ax.legend(bbox_to_anchor=(1.04, 0.5), loc=\"center left\", borderaxespad=0)\n",
    "plt.show()"
   ]
  },
  {
   "cell_type": "markdown",
   "id": "cd4ae108-1263-45c4-84c3-b1313f55ada7",
   "metadata": {},
   "source": [
    "### Greedy and RL actions"
   ]
  },
  {
   "cell_type": "code",
   "execution_count": null,
   "id": "596a2984-244d-45b1-9fb0-c88148c10025",
   "metadata": {},
   "outputs": [],
   "source": [
    "AF.SetPlotParams(magnification=1.05, ratio=float(2.2/3.3), fontsize=11, lines_w=0.7, ms=4)\n",
    "mpl.rcParams['axes.spines.right'] = False\n",
    "mpl.rcParams['axes.spines.top'] = False\n",
    "mpl.rc('text', usetex = True)\n",
    "mpl.rc('text.latex', preamble=r'\\usepackage{sfmath}')\n",
    "\n",
    "\n",
    "fig, ax = plt.subplots(1, 1)\n",
    "\n",
    "lw = .7\n",
    "t_start = 300\n",
    "t_end = t_start + 80\n",
    "x = np.arange(t_start, t_end) \n",
    "y_G = a_dynamics_greedy[t_start:t_end]\n",
    "y_RL = a_dynamics_deeprl[t_start:t_end]\n",
    "y_CV = a_dynamics_clairv[t_start:t_end]\n",
    "color = 'black'\n",
    "ax.plot(x, y_G, ls=':', marker='', lw=lw, color=color, label='greedy')\n",
    "color = light_blue\n",
    "ax.plot(x, y_RL, lw=1., ls='-', marker='', color=color, alpha=0.7, label='RL (best)')\n",
    "\n",
    "ax.set_xlabel('$\\mu$')\n",
    "ax.set_ylabel('$a_{\\mu}$')\n",
    "\n",
    "plt.grid()\n",
    "ax.set_xlim([t_start, t_end])\n",
    "ax.set_xticks([t_start, (t_start+t_end)/2, t_end])\n",
    "ax.set_yticks([-0.5, 0.5, 1.5])\n",
    "plt.legend(bbox_to_anchor=(-0., 1.02, 1, 0.2), loc=\"lower left\", mode=\"expand\", borderaxespad=0, ncol=2)\n",
    "plt.show()"
   ]
  }
 ],
 "metadata": {
  "kernelspec": {
   "display_name": "OptimalControlAttaks",
   "language": "python",
   "name": "optimalcontrolattaks"
  },
  "language_info": {
   "codemirror_mode": {
    "name": "ipython",
    "version": 3
   },
   "file_extension": ".py",
   "mimetype": "text/x-python",
   "name": "python",
   "nbconvert_exporter": "python",
   "pygments_lexer": "ipython3",
   "version": "3.8.18"
  }
 },
 "nbformat": 4,
 "nbformat_minor": 5
}

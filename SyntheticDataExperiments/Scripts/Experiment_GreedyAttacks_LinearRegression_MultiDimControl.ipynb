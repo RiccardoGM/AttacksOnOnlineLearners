{
 "cells": [
  {
   "cell_type": "markdown",
   "id": "4bd7ac25-9549-40fb-95e7-704828689c02",
   "metadata": {},
   "source": [
    "# Import"
   ]
  },
  {
   "cell_type": "code",
   "execution_count": 2,
   "id": "08eb9240-adde-4fb5-8cd4-dd5c1db39b75",
   "metadata": {},
   "outputs": [],
   "source": [
    "import numpy as np\n",
    "import matplotlib.pyplot as plt\n",
    "import matplotlib as mpl\n",
    "\n",
    "import sys\n",
    "import os\n",
    "local_path = '/Users/riccardo/Documents/GitHub/' #'path_to_progect_folder/'\n",
    "sys.path.append(local_path+'OptimalControlAttacks/SyntheticDataExperiments/')\n",
    "from Modules import GreedyAttacks as GA\n",
    "from Parameters import ParametersGreedyAttacks_LinearRegression as Par"
   ]
  },
  {
   "cell_type": "markdown",
   "id": "5114b71d-1496-477a-8844-0699f5d46689",
   "metadata": {
    "tags": []
   },
   "source": [
    "# Colors"
   ]
  },
  {
   "cell_type": "code",
   "execution_count": 3,
   "id": "f559bc37-a2b8-4bcc-9f8b-bee3a6a7ca49",
   "metadata": {},
   "outputs": [],
   "source": [
    "light_red = '#fcb1be'\n",
    "red = '#F73B5C'\n",
    "blue = '#125D98'"
   ]
  },
  {
   "cell_type": "markdown",
   "id": "f1be3824-c44b-402c-90b7-b3f73f135c55",
   "metadata": {},
   "source": [
    "# Parameters"
   ]
  },
  {
   "cell_type": "code",
   "execution_count": 4,
   "id": "688d4b09-8ab9-4aae-9628-6b4cabedbdb1",
   "metadata": {},
   "outputs": [],
   "source": [
    "# Activation\n",
    "activation = Par.activation\n",
    "\n",
    "# Input data parameters\n",
    "dim_input = Par.dim_input\n",
    "mu_x = Par.mu_x\n",
    "sigma_x = Par.sigma_x\n",
    "\n",
    "\n",
    "# Dynamics parameters\n",
    "learning_rate = Par.learning_rate\n",
    "gamma = Par.gamma\n",
    "beta = Par.beta\n",
    "\n",
    "\n",
    "# N. samples\n",
    "n_timesteps = Par.n_timesteps\n",
    "n_timesteps_transient_th = Par.n_timesteps_transient_th \n",
    "n_timesteps_past = Par.n_timesteps_past\n",
    "n_samples_average = Par.n_samples_average\n",
    "n_samples_buffer = Par.n_samples_buffer\n",
    "n_samples_test = Par.n_samples_test\n",
    "\n",
    "\n",
    "# Control parameters\n",
    "a_min = Par.a_min\n",
    "a_max = Par.a_max\n",
    "control_cost_weight = Par.control_cost_weight\n",
    "control_cost_weight_arr = Par.control_cost_weight_arr\n",
    "greedy_weight_future_linear = Par.dim_input/learning_rate\n",
    "#fut_pref = Par.fut_pref\n",
    "opt_pref = False\n",
    "\n",
    "\n",
    "# N. averages\n",
    "n_runs_experiments = Par.n_runs_experiments\n",
    "n_runs_calibration = Par.n_runs_calibration\n",
    "\n",
    "\n",
    "# Test sets\n",
    "x_test = np.random.normal(mu_x, sigma_x, (n_samples_test, dim_input))"
   ]
  },
  {
   "cell_type": "markdown",
   "id": "c53ab8a9-a3c8-419d-a00d-a7f8fb1ef760",
   "metadata": {},
   "source": [
    "# Single run"
   ]
  },
  {
   "cell_type": "code",
   "execution_count": 6,
   "id": "0a1398fe-d34d-426f-af51-56d796648725",
   "metadata": {},
   "outputs": [],
   "source": [
    "# Teacher\n",
    "w_teach = np.random.normal(0, 1, dim_input)\n",
    "w_teach = w_teach/(np.sum(w_teach**2)/dim_input)**0.5\n",
    "\n",
    "# Target\n",
    "w_target = -w_teach\n",
    "\n",
    "# Student (initial condition)\n",
    "w_stud_0 = w_teach\n",
    "\n",
    "# Weight control\n",
    "d_teach_target = 0.5 * np.mean((GA.perceptron(w_teach, x_test, activation=activation)-GA.perceptron(w_target, x_test, activation=activation))**2)\n",
    "control_cost_weight_l = control_cost_weight * (2*d_teach_target)"
   ]
  },
  {
   "cell_type": "code",
   "execution_count": 12,
   "id": "69cc6a30-9808-46c9-9808-78af458ec49b",
   "metadata": {},
   "outputs": [
    {
     "name": "stdout",
     "output_type": "stream",
     "text": [
      "Multi-dim control, P=1\n",
      "3.7078254625679583\n",
      "Training...\n",
      "1/5000\n",
      "500/5000\n",
      "1000/5000\n",
      "1500/5000\n",
      "2000/5000\n",
      "2500/5000\n",
      "3000/5000\n",
      "3500/5000\n",
      "4000/5000\n",
      "4500/5000\n",
      "5000/5000\n",
      "One-dim control, P=10\n",
      "3.7078254625679583\n",
      "Training...\n",
      "1/5000\n",
      "500/5000\n",
      "1000/5000\n",
      "1500/5000\n",
      "2000/5000\n",
      "2500/5000\n",
      "3000/5000\n",
      "3500/5000\n",
      "4000/5000\n",
      "4500/5000\n",
      "5000/5000\n",
      "Multi-dim control, P=10\n",
      "3.7078254625679583\n",
      "Training...\n",
      "1/5000\n",
      "500/5000\n",
      "1000/5000\n",
      "1500/5000\n",
      "2000/5000\n",
      "2500/5000\n",
      "3000/5000\n",
      "3500/5000\n",
      "4000/5000\n",
      "4500/5000\n",
      "5000/5000\n"
     ]
    }
   ],
   "source": [
    "# run greedy experiment\n",
    "fut_pref = 1.\n",
    "opt_pref = False\n",
    "fut_pref_interval = 0.1\n",
    "fut_pref_min = 0.7\n",
    "fut_pref_max = 1.2 + fut_pref_interval\n",
    "\n",
    "# Arrays \n",
    "batch_size = 1\n",
    "x_incoming = np.random.normal(mu_x, sigma_x, (batch_size*n_timesteps, dim_input))\n",
    "x_past = np.random.normal(mu_x, sigma_x, (batch_size*n_timesteps_past, dim_input))\n",
    "x_buffer = np.random.normal(mu_x, sigma_x, (batch_size*n_samples_buffer, dim_input))\n",
    "\n",
    "print('Multi-dim control, P=%d'%batch_size)\n",
    "results_greedy_P1 = GA.exp_greedy_perceptron(x_incoming=x_incoming, x_past=x_past, x_buffer=x_buffer, x_test=x_test,\n",
    "                                             dim_input=dim_input,\n",
    "                                             w_teach=w_teach, w_target=w_target, w_stud_0=w_stud_0,\n",
    "                                             eta=learning_rate, beta=beta, control_cost_weight=control_cost_weight,\n",
    "                                             a_min=a_min, a_max=a_max, batch_size=batch_size, \n",
    "                                             weight_future=greedy_weight_future_linear,\n",
    "                                             buffer_size=n_samples_average, activation=activation, \n",
    "                                             transient_th=n_timesteps_transient_th, fut_pref=fut_pref,\n",
    "                                             opt_pref=opt_pref, fut_pref_interval=fut_pref_interval,\n",
    "                                             fut_pref_min=fut_pref_min, fut_pref_max=fut_pref_max, \n",
    "                                             n_av=n_runs_calibration, n_gridpoints=51)\n",
    "\n",
    "# Arrays \n",
    "batch_size_large = 10\n",
    "x_incoming = np.random.normal(mu_x, sigma_x, (batch_size_large*n_timesteps, dim_input))\n",
    "x_past = np.random.normal(mu_x, sigma_x, (batch_size_large*n_timesteps_past, dim_input))\n",
    "x_buffer = np.random.normal(mu_x, sigma_x, (batch_size_large*n_samples_buffer, dim_input))\n",
    "\n",
    "print('One-dim control, P=%d'%batch_size_large)\n",
    "results_greedy_Plarge_batchcontrol = GA.exp_greedy_perceptron(x_incoming=x_incoming, x_past=x_past, x_buffer=x_buffer, x_test=x_test,\n",
    "                                                               dim_input=dim_input,\n",
    "                                                               w_teach=w_teach, w_target=w_target, w_stud_0=w_stud_0,\n",
    "                                                               eta=learning_rate, beta=beta, control_cost_weight=control_cost_weight,\n",
    "                                                               a_min=a_min, a_max=a_max, batch_size=batch_size_large, \n",
    "                                                               weight_future=greedy_weight_future_linear,\n",
    "                                                               buffer_size=n_samples_average, activation=activation, \n",
    "                                                               transient_th=n_timesteps_transient_th, fut_pref=fut_pref,\n",
    "                                                               opt_pref=opt_pref, fut_pref_interval=fut_pref_interval,\n",
    "                                                               fut_pref_min=fut_pref_min, fut_pref_max=fut_pref_max, \n",
    "                                                               n_av=n_runs_calibration, n_gridpoints=51)\n",
    "\n",
    "print('Multi-dim control, P=%d'%batch_size_large)\n",
    "results_greedy_Plarge = GA.exp_greedy_perceptron_multidimcontrol(x_incoming=x_incoming, x_past=x_past, x_buffer=x_buffer, x_test=x_test,\n",
    "                                                                 dim_input=dim_input,\n",
    "                                                                 w_teach=w_teach, w_target=w_target, w_stud_0=w_stud_0,\n",
    "                                                                 eta=learning_rate, beta=beta, control_cost_weight=control_cost_weight,\n",
    "                                                                 a_min=a_min, a_max=a_max, batch_size=batch_size_large, \n",
    "                                                                 weight_future=greedy_weight_future_linear,\n",
    "                                                                 buffer_size=n_samples_average, activation=activation, \n",
    "                                                                 transient_th=n_timesteps_transient_th, fut_pref=fut_pref,\n",
    "                                                                 opt_pref=opt_pref, fut_pref_interval=fut_pref_interval,\n",
    "                                                                 fut_pref_min=fut_pref_min, fut_pref_max=fut_pref_max, \n",
    "                                                                 n_av=n_runs_calibration, n_gridpoints=51)"
   ]
  },
  {
   "cell_type": "code",
   "execution_count": 13,
   "id": "412a0086-329a-4e85-91ea-2fdcc0cd6f44",
   "metadata": {},
   "outputs": [],
   "source": [
    "# Results\n",
    "nef_cost_dynamics_greedy_P1 = results_greedy_P1['nef_cost_dynamics']\n",
    "per_cost_dynamics_greedy_P1 = results_greedy_P1['per_cost_dynamics']\n",
    "d_dynamics_greedy_P1 = results_greedy_P1['d_dynamics']\n",
    "\n",
    "nef_cost_dynamics_greedy_Plarge_batchcontrol = results_greedy_Plarge_batchcontrol['nef_cost_dynamics']\n",
    "per_cost_dynamics_greedy_Plarge_batchcontrol = results_greedy_Plarge_batchcontrol['per_cost_dynamics']\n",
    "d_dynamics_greedy_Plarge_batchcontrol = results_greedy_Plarge_batchcontrol['d_dynamics']\n",
    "\n",
    "nef_cost_dynamics_greedy_Plarge = results_greedy_Plarge['nef_cost_dynamics']\n",
    "per_cost_dynamics_greedy_Plarge = results_greedy_Plarge['per_cost_dynamics']\n",
    "d_dynamics_greedy_Plarge = results_greedy_Plarge['d_dynamics']"
   ]
  },
  {
   "cell_type": "markdown",
   "id": "d9cba94b-77b9-42af-bfc9-eca8696f9198",
   "metadata": {
    "tags": []
   },
   "source": [
    "## Plot"
   ]
  },
  {
   "cell_type": "code",
   "execution_count": 31,
   "id": "26efb6d9-9862-4472-9ead-1e7e4594dd4b",
   "metadata": {},
   "outputs": [
    {
     "name": "stdout",
     "output_type": "stream",
     "text": [
      "Av. steady-state distance:\n",
      "\n",
      "P=1:   0.71\n",
      "P=10*: 0.71\n",
      "P=10:  0.56\n",
      "\n"
     ]
    },
    {
     "data": {
      "image/png": "[encoded data removed]",
      "text/plain": [
       "<Figure size 288x216 with 1 Axes>"
      ]
     },
     "metadata": {
      "needs_background": "light"
     },
     "output_type": "display_data"
    }
   ],
   "source": [
    "# Plot single realizations\n",
    "mpl.rcParams['axes.spines.right'] = False\n",
    "mpl.rcParams['axes.spines.top'] = False\n",
    "mpl.rcParams[\"figure.figsize\"] = (4,3)\n",
    "mpl.rc('text', usetex = True)\n",
    "mpl.rc('text.latex', preamble=r'\\usepackage{sfmath}')\n",
    "\n",
    "timesteps = np.arange(n_timesteps)\n",
    "t_max = 4000\n",
    "\n",
    "print('Av. steady-state distance:\\n')\n",
    "d_dynamics = d_dynamics_greedy_P1\n",
    "print('P=%d:   %.2f' % (batch_size, np.mean(d_dynamics[-2500:])))\n",
    "plt.plot(timesteps[:t_max], d_dynamics[:t_max], color=light_red, linestyle='-', lw=1, label='P=%d'%batch_size)\n",
    "\n",
    "d_dynamics = d_dynamics_greedy_Plarge\n",
    "print('P=%d*: %.2f' % (batch_size_large, np.mean(d_dynamics[-2500:])))\n",
    "plt.plot(timesteps[:t_max], d_dynamics[:t_max], color=red, linestyle='-', lw=1, label='P=%d*'%batch_size_large)\n",
    "\n",
    "d_dynamics = d_dynamics_greedy_Plarge_batchcontrol\n",
    "print('P=%d:  %.2f\\n' % (batch_size_large, np.mean(d_dynamics[-2500:])))\n",
    "plt.plot(timesteps[:t_max], d_dynamics[:t_max], color=blue, linestyle='-', lw=1, label='P=%d'%batch_size_large)\n",
    "\n",
    "plt.ylim([-0.045, .9])\n",
    "plt.xlim([-200, 4000])\n",
    "plt.yticks([0, 0.3, 0.6, 0.9])\n",
    "plt.xlabel('$\\mu$')\n",
    "plt.ylabel('$d_{\\mu}$')\n",
    "plt.legend(frameon=False)\n",
    "plt.grid(False)\n",
    "plt.show()"
   ]
  },
  {
   "cell_type": "code",
   "execution_count": null,
   "id": "591d5572-1689-45e3-b69f-9ee1cfcf8ee1",
   "metadata": {},
   "outputs": [],
   "source": []
  }
 ],
 "metadata": {
  "kernelspec": {
   "display_name": "py3_6_12_V3_PYPI",
   "language": "python",
   "name": "py3_6_12_v3_pypi"
  },
  "language_info": {
   "codemirror_mode": {
    "name": "ipython",
    "version": 3
   },
   "file_extension": ".py",
   "mimetype": "text/x-python",
   "name": "python",
   "nbconvert_exporter": "python",
   "pygments_lexer": "ipython3",
   "version": "3.6.12"
  }
 },
 "nbformat": 4,
 "nbformat_minor": 5
}

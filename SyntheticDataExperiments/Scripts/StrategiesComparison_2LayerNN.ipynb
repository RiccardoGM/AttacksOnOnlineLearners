{
 "cells": [
  {
   "cell_type": "markdown",
   "id": "4bd7ac25-9549-40fb-95e7-704828689c02",
   "metadata": {},
   "source": [
    "# Import"
   ]
  },
  {
   "cell_type": "code",
   "execution_count": 1,
   "id": "08eb9240-adde-4fb5-8cd4-dd5c1db39b75",
   "metadata": {},
   "outputs": [],
   "source": [
    "import numpy as np\n",
    "import statsmodels.stats.api as sms\n",
    "import matplotlib.pyplot as plt\n",
    "import matplotlib as mpl\n",
    "from stable_baselines3 import TD3\n",
    "\n",
    "import sys\n",
    "import os\n",
    "local_path = '/Users/riccardo/Documents/GitHub/' #'path_to_progect_folder/'\n",
    "sys.path.append(local_path+'OptimalControlAttacks/SyntheticDataExperiments/')\n",
    "from Modules import GreedyAttacks as GA\n",
    "from Modules import ConstantAttacks as CoA\n",
    "from Modules import ClairvoyantAttacks as ClA\n",
    "from Modules import DeepRLAttacks as RLA\n",
    "from Modules import AuxiliaryFunctions as AF\n",
    "from Parameters import ParametersAttacksComparison_2LayerNN as Par"
   ]
  },
  {
   "cell_type": "markdown",
   "id": "d237b5fb-1c10-44ef-a02c-bf175027c936",
   "metadata": {
    "tags": []
   },
   "source": [
    "# Colors"
   ]
  },
  {
   "cell_type": "code",
   "execution_count": 2,
   "id": "f559bc37-a2b8-4bcc-9f8b-bee3a6a7ca49",
   "metadata": {},
   "outputs": [],
   "source": [
    "green = '#7FB285'\n",
    "coral = '#FF8360'\n",
    "light_blue = '#3C8DAD'\n",
    "lavander = '#D5C6E0'\n",
    "light_red = '#FF616D'\n",
    "orange = '#F5A962'"
   ]
  },
  {
   "cell_type": "markdown",
   "id": "f1be3824-c44b-402c-90b7-b3f73f135c55",
   "metadata": {},
   "source": [
    "# Parameters"
   ]
  },
  {
   "cell_type": "code",
   "execution_count": 3,
   "id": "688d4b09-8ab9-4aae-9628-6b4cabedbdb1",
   "metadata": {},
   "outputs": [],
   "source": [
    "# Model\n",
    "model_name = Par.model_name\n",
    "activation = Par.activation\n",
    "output_scaling = Par.output_scaling\n",
    "hiddenlayer_width = Par.hiddenlayer_width\n",
    "target_type = Par.target_type\n",
    "train_first_layer = Par.train_first_layer\n",
    "\n",
    "# Input data parameters\n",
    "dim_input = Par.dim_input\n",
    "batch_size = Par.batch_size\n",
    "mu_x = Par.mu_x\n",
    "sigma_x = Par.sigma_x\n",
    "n_runs_experiments = Par.n_runs_experiments\n",
    "\n",
    "# Dynamics parameters\n",
    "learning_rate = Par.learning_rate\n",
    "gamma = Par.gamma\n",
    "beta = Par.beta\n",
    "\n",
    "# N. samples\n",
    "n_timesteps = Par.n_timesteps\n",
    "n_timesteps_transient_th = Par.n_timesteps_transient_th\n",
    "n_timesteps_past = Par.n_timesteps_past\n",
    "n_samples_average = Par.n_samples_average\n",
    "n_samples_buffer = Par.n_samples_buffer\n",
    "n_samples_test = Par.n_samples_test\n",
    "time_window = Par.time_window\n",
    "\n",
    "# Control parameters\n",
    "a_min = Par.a_min\n",
    "a_max = Par.a_max\n",
    "n_a_gridpoints = Par.n_a_gridpoints\n",
    "n_runs_calibration = Par.n_runs_calibration\n",
    "control_cost_weight = Par.control_cost_weight\n",
    "greedy_weight_future = Par.greedy_weight_future\n",
    "opt_pref = Par.opt_pref\n",
    "fut_pref = Par.fut_pref\n",
    "\n",
    "# DeepRL Agent\n",
    "agent_model_name = Par.agent_model_name\n",
    "n_actions = Par.n_actions\n",
    "use_action_noise = Par.use_action_noise\n",
    "action_noise_mean = Par.action_noise_mean\n",
    "action_noise_std = Par.action_noise_std\n",
    "observation_type = Par.observation_type \n",
    "use_small_achitecture = Par.use_small_achitecture\n",
    "shuffle_array = Par.shuffle_array\n",
    "learning_rate_agent = Par.learning_rate_agent\n",
    "activation_fn = Par.activation_fn\n",
    "n_episodes = Par.n_episodes\n",
    "save_freq = Par.save_freq\n",
    "train_freq = Par.train_freq\n",
    "\n",
    "# Strings/paths\n",
    "experiment_description = Par.experiment_description\n",
    "path_agent = Par.path_agent\n",
    "export_path = Par.export_path\n",
    "rlmodels_path = Par.rlmodels_path"
   ]
  },
  {
   "cell_type": "markdown",
   "id": "c53ab8a9-a3c8-419d-a00d-a7f8fb1ef760",
   "metadata": {},
   "source": [
    "# Arrays"
   ]
  },
  {
   "cell_type": "code",
   "execution_count": 4,
   "id": "0a1398fe-d34d-426f-af51-56d796648725",
   "metadata": {},
   "outputs": [],
   "source": [
    "# Arrays (assuming batch_size as specified above)\n",
    "x_incoming_arr = np.random.normal(mu_x, sigma_x, (n_runs_experiments, batch_size*n_timesteps, dim_input))\n",
    "x_past = np.random.normal(mu_x, sigma_x, (batch_size*n_timesteps_past, dim_input))\n",
    "x_buffer = np.random.normal(mu_x, sigma_x, (batch_size*n_samples_buffer, dim_input))\n",
    "x_test = np.random.normal(mu_x, sigma_x, (batch_size*n_samples_test, dim_input))"
   ]
  },
  {
   "cell_type": "markdown",
   "id": "b1748d27-a591-4b58-9064-023f1014dd3b",
   "metadata": {},
   "source": [
    "# Single run"
   ]
  },
  {
   "cell_type": "code",
   "execution_count": 5,
   "id": "7da1fd30-cf98-47d2-99af-28ab97d36f09",
   "metadata": {},
   "outputs": [],
   "source": [
    "run_index = 0\n",
    "x_incoming = x_incoming_arr[run_index]"
   ]
  },
  {
   "cell_type": "code",
   "execution_count": 6,
   "id": "c16789a6-11b7-466a-a940-44000bb2dc5c",
   "metadata": {},
   "outputs": [
    {
     "name": "stdout",
     "output_type": "stream",
     "text": [
      "Pre-factor control cost: 3.22\n"
     ]
    }
   ],
   "source": [
    "# Seed\n",
    "np.random.seed(seed=0)\n",
    "\n",
    "# Teacher\n",
    "W_teach = np.random.normal(0, 1, (hiddenlayer_width, dim_input))\n",
    "W_teach = W_teach / (np.sum(W_teach**2, axis=1).reshape(-1,1).repeat(dim_input, axis=1)/dim_input)**0.5\n",
    "v_teach = np.random.normal(0, 1, hiddenlayer_width)\n",
    "v_teach = v_teach / ((np.sum(v_teach**2)/hiddenlayer_width))**0.5\n",
    "# Target\n",
    "if target_type=='FlippedTeacher':\n",
    "    W_target = W_teach.copy()\n",
    "    v_target = -v_teach.copy()\n",
    "elif target_type=='Random':\n",
    "    W_target = np.random.normal(0, 1, (hiddenlayer_width, dim_input))\n",
    "    W_target = W_target / (np.sum(W_target**2, axis=1).reshape(-1,1).repeat(dim_input, axis=1)/dim_input)**0.5\n",
    "    v_target = np.random.normal(0, 1, hiddenlayer_width)\n",
    "    v_target = v_target / ((np.sum(v_target**2)/hiddenlayer_width))**0.5\n",
    "# Student (initial condition)\n",
    "W_stud_0 = W_teach.copy()\n",
    "v_stud_0 = v_teach.copy()\n",
    "\n",
    "# Action cost pre-factor\n",
    "label_t_test = GA.NN2L(x_test, W_teach, v_teach, activation=activation, output_scaling=output_scaling)\n",
    "label_o_test = GA.NN2L(x_test, W_target, v_target, activation=activation, output_scaling=output_scaling)\n",
    "error_target_teach = np.mean((label_o_test-label_t_test)**2)\n",
    "d_target_teach = 0.5 * error_target_teach\n",
    "pref_control_cost_weight = (2*d_target_teach)\n",
    "print('Pre-factor control cost: %.2f' % pref_control_cost_weight)"
   ]
  },
  {
   "cell_type": "markdown",
   "id": "a73727f2-f957-49f9-aa65-de2ed73285d1",
   "metadata": {},
   "source": [
    "## Constant"
   ]
  },
  {
   "cell_type": "code",
   "execution_count": 10,
   "id": "ea672628-afee-4d5e-bb86-1e96e8eae0d1",
   "metadata": {},
   "outputs": [
    {
     "name": "stdout",
     "output_type": "stream",
     "text": [
      "Control cost weight: 3.2152231187421516\n",
      "Training...\n",
      "1/5000\n",
      "500/5000\n",
      "1000/5000\n",
      "1500/5000\n",
      "2000/5000\n",
      "2500/5000\n",
      "3000/5000\n",
      "3500/5000\n",
      "4000/5000\n",
      "4500/5000\n",
      "5000/5000\n"
     ]
    }
   ],
   "source": [
    "opt_a_const = False\n",
    "a_const = 0.5\n",
    "results_constant = CoA.exp_const_NN2L(x_incoming=x_incoming, \n",
    "                                      x_past=x_past, \n",
    "                                      x_buffer=x_buffer, \n",
    "                                      x_test=x_test,\n",
    "                                      eta=learning_rate,\n",
    "                                      W_teach=W_teach, \n",
    "                                      v_teach=v_teach, \n",
    "                                      W_target=W_target,\n",
    "                                      v_target=v_target,\n",
    "                                      W_stud_0=W_stud_0,\n",
    "                                      v_stud_0=v_stud_0,\n",
    "                                      dim_input=dim_input,\n",
    "                                      a_const=a_const,\n",
    "                                      a_min=a_min, \n",
    "                                      a_max=a_max,\n",
    "                                      beta=beta, \n",
    "                                      control_cost_weight=control_cost_weight,\n",
    "                                      batch_size=batch_size,\n",
    "                                      n_gridpoints=n_a_gridpoints,\n",
    "                                      buffer_size=n_samples_average,\n",
    "                                      transient_th=n_timesteps_transient_th,\n",
    "                                      window_steadystate=time_window,\n",
    "                                      activation=activation,\n",
    "                                      n_av=n_runs_calibration, \n",
    "                                      output_scaling=output_scaling,\n",
    "                                      train_first_layer=train_first_layer)"
   ]
  },
  {
   "cell_type": "code",
   "execution_count": 11,
   "id": "2a7669cf-1ebe-4cdc-9bf9-17d5e1220513",
   "metadata": {},
   "outputs": [],
   "source": [
    "a_dynamics_const = results_constant['a_dynamics']\n",
    "nef_cost_dynamics_const = results_constant['nef_cost_dynamics']\n",
    "per_cost_dynamics_const = results_constant['per_cost_dynamics']\n",
    "cum_cost_dynamics_const = results_constant['cum_cost_dynamics']"
   ]
  },
  {
   "cell_type": "markdown",
   "id": "09540323-37e2-41e6-83d6-b102ffaee0f7",
   "metadata": {},
   "source": [
    "## Greedy"
   ]
  },
  {
   "cell_type": "code",
   "execution_count": 12,
   "id": "69cc6a30-9808-46c9-9808-78af458ec49b",
   "metadata": {},
   "outputs": [
    {
     "name": "stdout",
     "output_type": "stream",
     "text": [
      "2\n",
      "True\n",
      "Control cost weight: 3.2152231187421516\n",
      "Training...\n",
      "1/5000\n",
      "500/5000\n",
      "1000/5000\n",
      "1500/5000\n",
      "2000/5000\n",
      "2500/5000\n",
      "3000/5000\n",
      "3500/5000\n",
      "4000/5000\n",
      "4500/5000\n",
      "5000/5000\n"
     ]
    }
   ],
   "source": [
    "print(fut_pref)\n",
    "print(opt_pref)\n",
    "fut_pref_interval = 0.1\n",
    "fut_pref_min = 0.5\n",
    "fut_pref_max = 1.5 + fut_pref_interval\n",
    "\n",
    "opt_pref_local = False\n",
    "fut_pref_local = 1.6\n",
    "\n",
    "results_greedy = GA.exp_greedy_NN2L(x_incoming=x_incoming, \n",
    "                                    x_past=x_past, \n",
    "                                    x_buffer=x_buffer, \n",
    "                                    x_test=x_test,\n",
    "                                    eta=learning_rate,\n",
    "                                    W_teach=W_teach, \n",
    "                                    v_teach=v_teach, \n",
    "                                    W_target=W_target,\n",
    "                                    v_target=v_target,\n",
    "                                    W_stud_0=W_stud_0,\n",
    "                                    v_stud_0=v_stud_0,\n",
    "                                    dim_input=dim_input,\n",
    "                                    weight_future=greedy_weight_future,\n",
    "                                    a_min=a_min, \n",
    "                                    a_max=a_max,\n",
    "                                    beta=beta, \n",
    "                                    control_cost_weight=control_cost_weight,\n",
    "                                    batch_size=batch_size,\n",
    "                                    n_gridpoints=n_a_gridpoints,\n",
    "                                    buffer_size=n_samples_average,\n",
    "                                    transient_th=n_timesteps_transient_th,\n",
    "                                    window_steadystate=time_window,\n",
    "                                    activation=activation,\n",
    "                                    opt_pref=opt_pref_local, \n",
    "                                    fut_pref=fut_pref_local,\n",
    "                                    fut_pref_interval=fut_pref_interval,\n",
    "                                    fut_pref_min=fut_pref_min, \n",
    "                                    fut_pref_max=fut_pref_max,\n",
    "                                    n_av=n_runs_calibration, \n",
    "                                    output_scaling=output_scaling,\n",
    "                                    train_first_layer=train_first_layer)"
   ]
  },
  {
   "cell_type": "code",
   "execution_count": 13,
   "id": "412a0086-329a-4e85-91ea-2fdcc0cd6f44",
   "metadata": {},
   "outputs": [],
   "source": [
    "a_dynamics_greedy = results_greedy['a_dynamics']\n",
    "nef_cost_dynamics_greedy = results_greedy['nef_cost_dynamics']\n",
    "per_cost_dynamics_greedy = results_greedy['per_cost_dynamics']\n",
    "cum_cost_dynamics_greedy = results_greedy['cum_cost_dynamics']\n",
    "d_dynamics_greedy = results_greedy['d_dynamics']"
   ]
  },
  {
   "cell_type": "markdown",
   "id": "2cb168a3-9cda-432c-910f-3b41a88df64e",
   "metadata": {
    "tags": []
   },
   "source": [
    "## Clairvoyant"
   ]
  },
  {
   "cell_type": "code",
   "execution_count": 14,
   "id": "3a411d1b-f4b7-4c29-b316-fad6905cd8a0",
   "metadata": {},
   "outputs": [],
   "source": [
    "# No evaluation"
   ]
  },
  {
   "cell_type": "markdown",
   "id": "6670a77a-babb-41ea-b919-34548609f939",
   "metadata": {},
   "source": [
    "## DeepRL"
   ]
  },
  {
   "cell_type": "code",
   "execution_count": 7,
   "id": "acb60d0b-5eb7-4101-9223-b899a5a77590",
   "metadata": {},
   "outputs": [
    {
     "name": "stdout",
     "output_type": "stream",
     "text": [
      "Model: 72000 steps (episode 8)\n",
      "Done!\n"
     ]
    }
   ],
   "source": [
    "# Load performance\n",
    "models_description = '_agent#%s' % (agent_model_name)\n",
    "name = 'ObjectiveVSTrainingSteps'\n",
    "filename = name + '_@@@' + models_description + experiment_description + '.npy'\n",
    "obj_vs_trainingsteps = np.load(rlmodels_path + filename, allow_pickle=True)\n",
    "name = 'TrainingSteps'\n",
    "filename = name + '_@@@' + models_description + experiment_description + '.npy'\n",
    "trainingsteps = np.load(rlmodels_path + filename, allow_pickle=True)\n",
    "\n",
    "# Poisoning environment\n",
    "randomise_initial_condition = False\n",
    "shuffle_array = False\n",
    "env = RLA.EnvironmentNN2L(observation_type=observation_type,\n",
    "                          x_arr=x_incoming,\n",
    "                          batch_size=batch_size,\n",
    "                          W_stud_0=W_stud_0, \n",
    "                          v_stud_0=v_stud_0,\n",
    "                          W_teach=W_teach, \n",
    "                          v_teach=v_teach, \n",
    "                          W_target=W_target, \n",
    "                          v_target=v_target, \n",
    "                          a_min=a_min,\n",
    "                          a_max=a_max,\n",
    "                          learning_rate=learning_rate, \n",
    "                          control_cost_weight=pref_control_cost_weight*control_cost_weight, \n",
    "                          activation=activation,\n",
    "                          shuffle_array=shuffle_array, \n",
    "                          outputscaling=output_scaling, \n",
    "                          train_first_layer=train_first_layer)\n",
    "\n",
    "# Load model\n",
    "best_model_t = trainingsteps[np.argmin(obj_vs_trainingsteps)]\n",
    "path_to_model = path_agent + f'/rl_model_{best_model_t}_steps.zip'\n",
    "#path_to_buffer = path_repbuffer + f'rl_model_replay_buffer_{timesteps_past}_steps.pkl'\n",
    "if os.path.exists(path_to_model):\n",
    "    model = TD3.load(path_to_model, env)\n",
    "    #model_iter.load_replay_buffer(path_to_buffer)\n",
    "    print('Model: %d steps (episode %d)' % (best_model_t, 1+int(best_model_t/n_timesteps_past))) \n",
    "    steps_flag = True\n",
    "else:\n",
    "    print('  %d-model not found (ep %d)' % (best_model_t, 1+int(best_model_t/n_timesteps_past))) \n",
    "    \n",
    "# Experiment\n",
    "results_deeprl = RLA.exp_rl_NN2L(model, env, x_test)\n",
    "print('Done!')"
   ]
  },
  {
   "cell_type": "code",
   "execution_count": 9,
   "id": "03e0892f-d4cf-44b2-915d-f2e6570326e5",
   "metadata": {},
   "outputs": [],
   "source": [
    "a_dynamics_deeprl = results_deeprl['a_dynamics']\n",
    "nef_cost_dynamics_deeprl = results_deeprl['nef_cost_dynamics']\n",
    "per_cost_dynamics_deeprl = results_deeprl['per_cost_dynamics']\n",
    "cum_cost_dynamics_deeprl = results_deeprl['cum_cost_dynamics']\n",
    "d_dynamics_deeprl = results_deeprl['d_dynamics']"
   ]
  },
  {
   "cell_type": "markdown",
   "id": "1dd7b699-4309-417b-b005-2ce601109c2f",
   "metadata": {},
   "source": [
    "## Figures"
   ]
  },
  {
   "cell_type": "markdown",
   "id": "37629b61-0c0d-4666-aa3e-0ab0e293e17d",
   "metadata": {},
   "source": [
    "### Steady-state cost comparison"
   ]
  },
  {
   "cell_type": "code",
   "execution_count": 15,
   "id": "7a46825f-e670-4189-806d-3533ae20e6ff",
   "metadata": {},
   "outputs": [
    {
     "data": {
      "text/plain": [
       "array([1.        , 0.64663907, 0.62230665])"
      ]
     },
     "execution_count": 15,
     "metadata": {},
     "output_type": "execute_result"
    }
   ],
   "source": [
    "t_end = 4000\n",
    "#\n",
    "g_nef_C = nef_cost_dynamics_const[-t_end:]\n",
    "g_per_C = per_cost_dynamics_const[-t_end:]\n",
    "g_C = g_per_C + g_nef_C\n",
    "g_C_mean = np.mean(g_C)\n",
    "g_C_ci = sms.DescrStatsW(g_C).tconfint_mean(alpha=0.05)\n",
    "g_C_err = 0.5*(g_C_ci[1]-g_C_ci[0])\n",
    "#\n",
    "g_nef_RL = nef_cost_dynamics_deeprl[-t_end:]\n",
    "g_per_RL = per_cost_dynamics_deeprl[-t_end:]\n",
    "g_RL = g_per_RL + g_nef_RL\n",
    "g_RL_mean = np.mean(g_RL)\n",
    "g_RL_ci = sms.DescrStatsW(g_RL).tconfint_mean(alpha=0.05)\n",
    "g_RL_err = 0.5*(g_RL_ci[1]-g_RL_ci[0])\n",
    "#\n",
    "g_nef_G = nef_cost_dynamics_greedy[-t_end:]\n",
    "g_per_G = per_cost_dynamics_greedy[-t_end:]\n",
    "g_G = g_per_G + g_nef_G\n",
    "g_G_mean = np.mean(g_G)\n",
    "g_G_ci = sms.DescrStatsW(g_G).tconfint_mean(alpha=0.05)\n",
    "g_G_err = 0.5*(g_G_ci[1]-g_G_ci[0])\n",
    "\n",
    "\n",
    "g_mean = np.array([g_C_mean, g_RL_mean, g_G_mean])\n",
    "g_err = np.array([g_C_err, g_RL_err, g_G_err])\n",
    "\n",
    "rescale = True\n",
    "if rescale:\n",
    "    scale = 1/max(g_mean)\n",
    "    g_mean = scale * g_mean\n",
    "    g_err = scale * g_err\n",
    "g_mean"
   ]
  },
  {
   "cell_type": "code",
   "execution_count": 16,
   "id": "1551fae5-9bb6-41a3-9350-b19365f0eb02",
   "metadata": {},
   "outputs": [
    {
     "data": {
      "image/png": "[encoded data removed]",
      "text/plain": [
       "<Figure size 203x186.083 with 1 Axes>"
      ]
     },
     "metadata": {},
     "output_type": "display_data"
    }
   ],
   "source": [
    "AF.SetPlotParams(magnification=0.7, ratio=float(2.2/2.4), fontsize=11, lines_w=0.7, ms=4)\n",
    "mpl.rcParams['axes.spines.right'] = False\n",
    "mpl.rcParams['axes.spines.top'] = False\n",
    "mpl.rc('text', usetex = True)\n",
    "mpl.rc('text.latex', preamble=r'\\usepackage{sfmath}')\n",
    "\n",
    "\n",
    "fig, ax = plt.subplots()\n",
    "\n",
    "dict_errorbars = dict(color='black', alpha=0.8, lw=0.5, capsize=0)\n",
    "\n",
    "colors = [orange, light_blue, lavander]\n",
    "y = g_mean\n",
    "max_y = max(y)\n",
    "y_err = g_err\n",
    "x_positions_bars = [1, 2, 3]\n",
    "x_positions_labels = [1, 2, 3, 4] \n",
    "x_labels = ['C', 'RL*', 'G', 'CV']\n",
    "\n",
    "width = 0.5\n",
    "lines_w = 0.5\n",
    "ax.bar(x_positions_bars, y, yerr=y_err, color=colors, alpha=0.8, width=width, lw=lines_w, error_kw=dict_errorbars)\n",
    "\n",
    "colors = [light_red]\n",
    "x_positions_crosses = [4]\n",
    "for i, el in enumerate(x_positions_crosses):\n",
    "    ax.scatter(el, 0.1*max_y, color=colors[i], marker='x', s=90, alpha=0.8, lw=1.5)\n",
    "\n",
    "ax.set_xticks(x_positions_labels)\n",
    "ax.set_xticklabels(x_labels, rotation=0)\n",
    "ax.set_xlim([min(x_positions_labels)-1, max(x_positions_labels)+1])\n",
    "if rescale:\n",
    "    ax.set_ylabel('$\\overline{g}_{\\infty}/\\,\\overline{g}^{\\mathrm{\\,C}}_{\\infty}$')\n",
    "else:\n",
    "    ax.set_ylabel('$\\overline{g}_{\\infty}$')\n",
    "plt.xticks(fontsize=12)\n",
    "plt.grid()\n",
    "plt.show()"
   ]
  },
  {
   "cell_type": "markdown",
   "id": "cd4ae108-1263-45c4-84c3-b1313f55ada7",
   "metadata": {},
   "source": [
    "### Greedy and RL actions"
   ]
  },
  {
   "cell_type": "code",
   "execution_count": 18,
   "id": "596a2984-244d-45b1-9fb0-c88148c10025",
   "metadata": {},
   "outputs": [
    {
     "data": {
      "image/png": "[encoded data removed]",
      "text/plain": [
       "<Figure size 304.5x203 with 1 Axes>"
      ]
     },
     "metadata": {},
     "output_type": "display_data"
    }
   ],
   "source": [
    "AF.SetPlotParams(magnification=1.05, ratio=float(2.2/3.3), fontsize=11, lines_w=0.7, ms=4)\n",
    "mpl.rcParams['axes.spines.right'] = False\n",
    "mpl.rcParams['axes.spines.top'] = False\n",
    "mpl.rc('text', usetex = True)\n",
    "mpl.rc('text.latex', preamble=r'\\usepackage{sfmath}')\n",
    "\n",
    "\n",
    "fig, ax = plt.subplots(1, 1)\n",
    "\n",
    "lw = .7\n",
    "t_start = 300\n",
    "t_end = t_start + 80\n",
    "x = np.arange(t_start, t_end) \n",
    "y_G = a_dynamics_greedy[t_start:t_end]\n",
    "y_RL = a_dynamics_deeprl[t_start:t_end]\n",
    "color = 'black'\n",
    "ax.plot(x, y_G, ls=':', marker='', lw=lw, color=color, label='greedy')\n",
    "color = light_blue\n",
    "ax.plot(x, y_RL, lw=1., ls='-', marker='', color=color, alpha=0.7, label='RL (best)')\n",
    "\n",
    "ax.set_xlabel('$\\mu$')\n",
    "ax.set_ylabel('$a_{\\mu}$')\n",
    "\n",
    "plt.grid()\n",
    "ax.set_xlim([t_start, t_end])\n",
    "ax.set_xticks([t_start, (t_start+t_end)/2, t_end])\n",
    "ax.set_yticks([-0.5, 0.5, 1.5])\n",
    "plt.legend(bbox_to_anchor=(-0., 1.02, 1, 0.2), loc=\"lower left\", mode=\"expand\", borderaxespad=0, ncol=2)\n",
    "plt.show()"
   ]
  },
  {
   "cell_type": "code",
   "execution_count": null,
   "id": "55be5ed1-8da4-48b7-82b9-ffd883a92127",
   "metadata": {},
   "outputs": [],
   "source": []
  }
 ],
 "metadata": {
  "kernelspec": {
   "display_name": "OptimalControlAttaks",
   "language": "python",
   "name": "optimalcontrolattaks"
  },
  "language_info": {
   "codemirror_mode": {
    "name": "ipython",
    "version": 3
   },
   "file_extension": ".py",
   "mimetype": "text/x-python",
   "name": "python",
   "nbconvert_exporter": "python",
   "pygments_lexer": "ipython3",
   "version": "3.8.18"
  }
 },
 "nbformat": 4,
 "nbformat_minor": 5
}
